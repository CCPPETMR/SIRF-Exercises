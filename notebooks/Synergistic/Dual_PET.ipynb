{
 "cells": [
  {
   "cell_type": "markdown",
   "metadata": {},
   "source": [
    "# Dual PET tracer de Pierro with motion\n",
    "\n",
    "Authors: Kris Thielemans, Sam Ellis, Richard Brown  \n",
    "First version: 2nd of November 2019\n",
    "\n",
    "CCP PETMR Synergistic Image Reconstruction Framework (SIRF)  \n",
    "Copyright 2019  University College London  \n",
    "Copyright 2019  King's College London  \n",
    "\n",
    "This is software developed for the Collaborative Computational\n",
    "Project in Positron Emission Tomography and Magnetic Resonance imaging\n",
    "(http://www.ccppetmr.ac.uk/).\n",
    "\n",
    "Licensed under the Apache License, Version 2.0 (the \"License\");\n",
    "you may not use this file except in compliance with the License.\n",
    "You may obtain a copy of the License at\n",
    "    http://www.apache.org/licenses/LICENSE-2.0\n",
    "Unless required by applicable law or agreed to in writing, software\n",
    "distributed under the License is distributed on an \"AS IS\" BASIS,\n",
    "WITHOUT WARRANTIES OR CONDITIONS OF ANY KIND, either express or implied.\n",
    "See the License for the specific language governing permissions and\n",
    "limitations under the License."
   ]
  },
  {
   "cell_type": "markdown",
   "metadata": {},
   "source": [
    "# The challenge!\n",
    "\n",
    "This notebook is an open-ended look into using de Pierro MAPEM to reconstruct a dual-PET acquisition with motion.\n",
    "\n",
    "- Imagine two different scans (FDG and amyloid) were performed in a short space of time on a single patient. \n",
    "- Your task is to implement an alternating reconstruction of the two scans using de Pierro's MAPEM algorithm!\n",
    "- Bear in mind that the two scans weren't performed at the same time, so the patient's head isn't necessarily in the same place...\n",
    "\n",
    "## Suggested workflow\n",
    "\n",
    "1. Since we can't be sure of patient position, you should probably reconstruct each image individually \n",
    "2. Then register them\n",
    "3. Then implement de Pierro's algorithm with two regularisation images\n",
    "4. Make sure that the regularisation images are in the correct space. For this, you'll probably need to do some resampling!\n",
    "\n",
    "For registration and resampling, check out the [../Reg/sirf_registration.ipynb](../Reg/sirf_registration.ipynb) notebook.  \n",
    "For an implementation of de Pierro MAPEM, checkout the [de_Pierro_MAPEM.ipynb](de_Pierro_MAPEM.ipynb) notebook."
   ]
  }
 ],
 "metadata": {
  "kernelspec": {
   "display_name": "Python 3",
   "language": "python",
   "name": "python3"
  },
  "language_info": {
   "codemirror_mode": {
    "name": "ipython"
   },
   "file_extension": ".py",
   "mimetype": "text/x-python",
   "name": "python",
   "nbconvert_exporter": "python"
  }
 },
 "nbformat": 4,
 "nbformat_minor": 2
}

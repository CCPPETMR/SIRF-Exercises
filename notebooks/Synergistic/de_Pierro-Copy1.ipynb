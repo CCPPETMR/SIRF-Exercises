{
 "cells": [
  {
   "cell_type": "markdown",
   "metadata": {},
   "source": [
    "# MAPEM de Pierro algorithm"
   ]
  },
  {
   "cell_type": "markdown",
   "metadata": {},
   "source": [
    "Authors: Sam Ellis, Kris Thielemans, Richard Brown\n",
    "First version: 22nd of October 2019\n",
    "Second version: 27th of October 2019\n",
    "\n",
    "CCP PETMR Synergistic Image Reconstruction Framework (SIRF)  \n",
    "Copyright 2019  University College London.\n",
    "Copyright 2019  King's College London\n",
    "\n",
    "This is software developed for the Collaborative Computational\n",
    "Project in Positron Emission Tomography and Magnetic Resonance imaging\n",
    "(http://www.ccppetmr.ac.uk/).\n",
    "\n",
    "Licensed under the Apache License, Version 2.0 (the \"License\");\n",
    "you may not use this file except in compliance with the License.\n",
    "You may obtain a copy of the License at\n",
    "    http://www.apache.org/licenses/LICENSE-2.0\n",
    "Unless required by applicable law or agreed to in writing, software\n",
    "distributed under the License is distributed on an \"AS IS\" BASIS,\n",
    "WITHOUT WARRANTIES OR CONDITIONS OF ANY KIND, either express or implied.\n",
    "See the License for the specific language governing permissions and\n",
    "limitations under the License."
   ]
  },
  {
   "cell_type": "markdown",
   "metadata": {},
   "source": [
    "# MAPEM\n",
    "If you have completed the PET component, you will have implemented a version of MAPEM with a quadratic prior. If you haven't, you should probably have a look at that notebook before this one: [../PET/MAPEM.ipynb](../PET/MAPEM.ipynb).\n",
    "\n",
    "The following chunk of code is copied and pasted directly from that notebook as a starting point. The difference here is that we are going to use an anatomical prior instead of the quadratic prior used previously.\n",
    "\n",
    "First, run the code chunk to get the results using the quadratic prior..."
   ]
  },
  {
   "cell_type": "code",
   "execution_count": null,
   "metadata": {},
   "outputs": [],
   "source": []
  },
  {
   "cell_type": "code",
   "execution_count": null,
   "metadata": {},
   "outputs": [],
   "source": []
  },
  {
   "cell_type": "code",
   "execution_count": null,
   "metadata": {},
   "outputs": [],
   "source": []
  },
  {
   "cell_type": "code",
   "execution_count": null,
   "metadata": {},
   "outputs": [],
   "source": []
  },
  {
   "cell_type": "code",
   "execution_count": null,
   "metadata": {},
   "outputs": [],
   "source": []
  },
  {
   "cell_type": "code",
   "execution_count": null,
   "metadata": {},
   "outputs": [],
   "source": []
  },
  {
   "cell_type": "code",
   "execution_count": null,
   "metadata": {},
   "outputs": [],
   "source": []
  },
  {
   "cell_type": "code",
   "execution_count": null,
   "metadata": {},
   "outputs": [],
   "source": [
    "#%% make sure figures appears inline and animations works\n",
    "%matplotlib notebook"
   ]
  },
  {
   "cell_type": "code",
   "execution_count": null,
   "metadata": {},
   "outputs": [],
   "source": [
    "import sirf.STIR as pet\n",
    "import matplotlib.pyplot as plt\n",
    "import os\n",
    "import numpy as np\n",
    "from numpy.linalg import norm\n",
    "import sirf.contrib.kcl.Prior as pr\n",
    "import shutil\n",
    "\n",
    "# Get to correct directory\n",
    "os.chdir(\"/data\")\n",
    "\n",
    "#%% copy files to working folder and change directory to where the output files are\n",
    "shutil.rmtree('working_folder/dePierro',True)\n",
    "shutil.copytree('SRS_data_exhale','working_folder/dePierro')\n",
    "os.chdir('working_folder/dePierro')"
   ]
  },
  {
   "cell_type": "code",
   "execution_count": null,
   "metadata": {},
   "outputs": [],
   "source": [
    "#%% some handy function definitions\n",
    "def imshow(image, limits=None, title=''):\n",
    "    \"\"\"Usage: imshow(image, [min,max], title)\"\"\"\n",
    "    plt.title(title)\n",
    "    bitmap = plt.imshow(image)\n",
    "    if limits is None:\n",
    "        limits = [image.min(), image.max()]\n",
    "                \n",
    "    plt.clim(limits[0], limits[1])\n",
    "    plt.colorbar(shrink=.6)\n",
    "    plt.axis('off')\n",
    "    return bitmap\n",
    "\n",
    "def make_cylindrical_FOV(image):\n",
    "    \"\"\"truncate to cylindrical FOV\"\"\"\n",
    "    filter = pet.TruncateToCylinderProcessor()\n",
    "    filter.apply(image)"
   ]
  },
  {
   "cell_type": "markdown",
   "metadata": {},
   "source": [
    "### Load some data and set some values"
   ]
  },
  {
   "cell_type": "code",
   "execution_count": null,
   "metadata": {},
   "outputs": [],
   "source": [
    "sino = pet.AcquisitionData('noisy_sino.hs')\n",
    "atten = pet.ImageData('PET_attenuation.nii')\n",
    "num_subsets = 21\n",
    "num_subiters = 42\n",
    "\n",
    "# Anatomical image\n",
    "anatomical = pet.ImageData('MR_T1.nii') # could be MR_T2.nii or MR_PD.nii\n",
    "anatomical_arr = anatomical.as_array()\n",
    "\n",
    "#%%  create initial image\n",
    "init_image=atten.get_uniform_copy(atten.as_array().max()*.1)\n",
    "make_cylindrical_FOV(init_image)"
   ]
  },
  {
   "cell_type": "markdown",
   "metadata": {},
   "source": [
    "## Set up the acquisition model and objective function"
   ]
  },
  {
   "cell_type": "code",
   "execution_count": null,
   "metadata": {},
   "outputs": [],
   "source": [
    "#%% create acquisition model\n",
    "am = pet.AcquisitionModelUsingRayTracingMatrix()\n",
    "am.set_num_tangential_LORs(5)\n",
    "\n",
    "# Set up sensitivity due to attenuation\n",
    "asm_attn = pet.AcquisitionSensitivityModel(atten, am)\n",
    "asm_attn.set_up(sino)\n",
    "bin_eff = pet.AcquisitionData(sino)\n",
    "bin_eff.fill(1.0)\n",
    "asm_attn.unnormalise(bin_eff)\n",
    "asm_attn = pet.AcquisitionSensitivityModel(bin_eff)\n",
    "\n",
    "# Set sensitivity of the model and set up\n",
    "am.set_acquisition_sensitivity(asm_attn)\n",
    "am.set_up(sino,atten);\n",
    "\n",
    "#%% create objective function\n",
    "obj_fun = pet.make_Poisson_loglikelihood(sino)\n",
    "obj_fun.set_acquisition_model(am)"
   ]
  },
  {
   "cell_type": "markdown",
   "metadata": {},
   "source": [
    "## Normal OSEM"
   ]
  },
  {
   "cell_type": "code",
   "execution_count": null,
   "metadata": {},
   "outputs": [],
   "source": [
    "#%% create OSEM reconstructor\n",
    "OSEM_reconstructor = pet.OSMAPOSLReconstructor()\n",
    "OSEM_reconstructor.set_objective_function(obj_fun)\n",
    "OSEM_reconstructor.set_num_subsets(num_subsets)\n",
    "OSEM_reconstructor.set_num_subiterations(num_subiters)\n",
    "\n",
    "reconstructed_image = init_image.clone()\n",
    "OSEM_reconstructor.set_up(reconstructed_image)\n",
    "OSEM_reconstructor.reconstruct(reconstructed_image)"
   ]
  },
  {
   "cell_type": "markdown",
   "metadata": {},
   "source": [
    "### Display OSEM"
   ]
  },
  {
   "cell_type": "code",
   "execution_count": null,
   "metadata": {},
   "outputs": [],
   "source": [
    "recon_arr = reconstructed_image.as_array()\n",
    "plt.subplot(1,3,1);\n",
    "imshow(recon_arr[:,:,60],[0, 0.1]);\n",
    "plt.subplot(1,3,2);\n",
    "imshow(recon_arr[:,60,:],[0, 0.1]);\n",
    "plt.subplot(1,3,3);\n",
    "imshow(recon_arr[60,:,:],[0, 0.1]);"
   ]
  },
  {
   "cell_type": "markdown",
   "metadata": {},
   "source": [
    "## Now use dePierro MAPEM"
   ]
  },
  {
   "cell_type": "code",
   "execution_count": null,
   "metadata": {},
   "outputs": [],
   "source": [
    "def dePierroUpdate(imageEM, imageReg, beta, sensImg):\n",
    "    \n",
    "    delta = 1e-6*abs(sensImg).max()\n",
    "    sensImg[sensImg < delta] = delta # avoid division by zero\n",
    "    beta_j = beta/sensImg\n",
    "    \n",
    "    b_j = 1 - beta_j*imageReg\n",
    "    \n",
    "    numer = (2*imageEM)\n",
    "    denom = ((b_j**2 + 4*beta_j*imageEM)**0.5 + b_j)\n",
    "    \n",
    "    delta = 1e-6*abs(denom).max()\n",
    "    denom[denom < delta] = delta # avoid division by zero\n",
    "    \n",
    "    imageUpdated = numer/denom\n",
    "    \n",
    "    return imageUpdated\n",
    "\n",
    "\n",
    "def dePierroReg(image,weights):\n",
    "    \n",
    "    # get size and vectorise image for indexing \n",
    "    imSize = image.shape\n",
    "    imageVec = image.reshape(-1,1,order='F').flatten('F')\n",
    "    \n",
    "    # get the neigbourhoods of each voxel\n",
    "    weightsSize = weights.shape\n",
    "    w = int(round(weightsSize[1]**(1.0/3))) # side length of neighbourhood\n",
    "    nhoodInd    = neighbourExtract(imSize,w)\n",
    "    nhoodIndVec = nhoodInd.reshape(-1,1,order='F').flatten('F')\n",
    "    \n",
    "    # retrieve voxel intensities for neighbourhoods \n",
    "    resultVec = np.float32(imageVec[nhoodIndVec])\n",
    "    result = resultVec.reshape(nhoodInd.shape,order='F')\n",
    "    \n",
    "    # compute xreg\n",
    "    try:\n",
    "        imageReg = 0.5*np.sum(weights*(result + np.float32(image).reshape(-1,1,order='F')),axis=1)\n",
    "    except:\n",
    "        tmpVar = 1;    \n",
    "    imageReg = imageReg.reshape(imSize,order='F')\n",
    "    \n",
    "    return imageReg\n",
    "\n",
    "\n",
    "def neighbourExtract(imageSize,w):\n",
    "    # Adapted from Prior class        \n",
    "    n = imageSize[0]\n",
    "    m = imageSize[1]\n",
    "    h = imageSize[2]\n",
    "    wlen = 2*np.floor(w/2)\n",
    "    widx = xidx = yidx = np.arange(-wlen/2,wlen/2+1)\n",
    "\n",
    "    if h==1:\n",
    "        zidx = [0]\n",
    "        nN = w*w\n",
    "    else:\n",
    "        zidx = widx\n",
    "        nN = w*w*w\n",
    "        \n",
    "    Y,X,Z = np.meshgrid(np.arange(0,m), np.arange(0,n), np.arange(0,h))                \n",
    "    N = np.zeros([n*m*h, nN],dtype='int32')\n",
    "    l = 0\n",
    "    for x in xidx:\n",
    "        Xnew = setBoundary(X + x,n)\n",
    "        for y in yidx:\n",
    "            Ynew = setBoundary(Y + y,m)\n",
    "            for z in zidx:\n",
    "                Znew = setBoundary(Z + z,h)\n",
    "                N[:,l] = ((Xnew + (Ynew)*n + (Znew)*n*m)).reshape(-1,1).flatten('F')\n",
    "                l += 1\n",
    "    return N\n",
    "\n",
    "\n",
    "def setBoundary(X,n):\n",
    "    # Boundary conditions for neighbourExtract\n",
    "    # Adapted from Prior class\n",
    "    idx = X<0\n",
    "    X[idx] = X[idx] + n\n",
    "    idx = X>n-1\n",
    "    X[idx] = X[idx] - n\n",
    "    return X.flatten('F')"
   ]
  },
  {
   "cell_type": "markdown",
   "metadata": {},
   "source": [
    "### MAPEM input data and parameters"
   ]
  },
  {
   "cell_type": "code",
   "execution_count": null,
   "metadata": {},
   "outputs": [],
   "source": [
    "sensitivity_image = obj_fun.get_subset_sensitivity(0)\n",
    "de_pierro_reconstructed_image = init_image.clone()\n",
    "beta = 500"
   ]
  },
  {
   "cell_type": "code",
   "execution_count": null,
   "metadata": {},
   "outputs": [],
   "source": [
    "# create a Prior for computing Bowsher weights\n",
    "myPrior = pr.Prior(anatomical_arr.shape)\n",
    "weights = myPrior.BowshserWeights(anatomical_arr,7)\n",
    "weights = np.float32(weights/7.0)\n",
    "if (np.abs(np.sum(weights,axis=1)-1)>1.0e-6).any():\n",
    "    raise ValueError(\"Weights should sum to 1 for each voxel\")\n",
    "\n",
    "# Create OSEM reconstructor\n",
    "print('Setting up reconstruction object')\n",
    "OSEM_reconstructor = pet.OSMAPOSLReconstructor()\n",
    "OSEM_reconstructor.set_objective_function(obj_fun)                             \n",
    "OSEM_reconstructor.set_num_subsets(num_subsets)\n",
    "OSEM_reconstructor.set_num_subiterations(num_subiters)\n",
    "OSEM_reconstructor.set_up(de_pierro_reconstructed_image)"
   ]
  },
  {
   "cell_type": "code",
   "execution_count": null,
   "metadata": {},
   "outputs": [],
   "source": [
    "for iter in range(1,num_subiters + 1):\n",
    "    print('\\n------------- Subiteration %d' % iter) \n",
    "    \n",
    "    # Calculate imageReg and return as an array\n",
    "    imageReg_array = dePierroReg(de_pierro_reconstructed_image.as_array(),weights)\n",
    "    \n",
    "    # OSEM image update\n",
    "    OSEM_reconstructor.update(de_pierro_reconstructed_image)\n",
    "    imageEM_array = de_pierro_reconstructed_image.as_array()\n",
    "\n",
    "    # Final image update\n",
    "    imageUpdated_array = dePierroUpdate \\\n",
    "        (imageEM_array, imageReg_array, beta, sensitivity_image.as_array())\n",
    "\n",
    "    # Fill image and truncate to cylindrical field of view        \n",
    "    de_pierro_reconstructed_image.fill(imageUpdated_array)\n",
    "    make_cylindrical_FOV(de_pierro_reconstructed_image)"
   ]
  },
  {
   "cell_type": "code",
   "execution_count": null,
   "metadata": {},
   "outputs": [],
   "source": [
    "plt.figure()\n",
    "\n",
    "depier_arr = de_pierro_reconstructed_image.as_array()\n",
    "\n",
    "plt.subplot(2,3,1);\n",
    "imshow(recon_arr[:,:,60],[0, 0.05]);\n",
    "plt.subplot(2,3,2);\n",
    "imshow(recon_arr[:,60,:],[0, 0.05]);\n",
    "plt.subplot(2,3,3);\n",
    "imshow(recon_arr[60,:,:],[0, 0.05]);\n",
    "plt.subplot(2,3,4);\n",
    "imshow(depier_arr[:,:,60],[0, 0.05]);\n",
    "plt.subplot(2,3,5);\n",
    "imshow(depier_arr[:,60,:],[0, 0.05]);\n",
    "plt.subplot(2,3,6);\n",
    "imshow(depier_arr[60,:,:],[0, 0.05]);"
   ]
  },
  {
   "cell_type": "markdown",
   "metadata": {},
   "source": [
    "# Writing MAP-EM with SIRF\n",
    "This notebook provides a start for writing MAP-EM yourself. It gives you basic lines for setting up a simulation, a simplified implementation of MAP-EM (with one known problem), and a few lines to help plot results.\n",
    "\n",
    "You are strongly advised to complete (at least) the first half of the ML_reconstruction exercise before starting with this one. For instance, the simulation and plotting code here is taken directly from the `ML_reconstruction` code, but with fewer comments."
   ]
  },
  {
   "cell_type": "markdown",
   "metadata": {},
   "source": [
    "Author: Kris Thielemans  \n",
    "First version: 19th of May 2018\n",
    "\n",
    "CCP PETMR Synergistic Image Reconstruction Framework (SIRF)  \n",
    "Copyright 2017 - 2018 University College London.\n",
    "\n",
    "This is software developed for the Collaborative Computational\n",
    "Project in Positron Emission Tomography and Magnetic Resonance imaging\n",
    "(http://www.ccppetmr.ac.uk/).\n",
    "\n",
    "Licensed under the Apache License, Version 2.0 (the \"License\");\n",
    "you may not use this file except in compliance with the License.\n",
    "You may obtain a copy of the License at\n",
    "     http://www.apache.org/licenses/LICENSE-2.0\n",
    "Unless required by applicable law or agreed to in writing, software\n",
    "distributed under the License is distributed on an \"AS IS\" BASIS,\n",
    "WITHOUT WARRANTIES OR CONDITIONS OF ANY KIND, either express or implied.\n",
    "See the License for the specific language governing permissions and\n",
    "limitations under the License."
   ]
  },
  {
   "cell_type": "markdown",
   "metadata": {},
   "source": [
    "# Initial set-up"
   ]
  },
  {
   "cell_type": "code",
   "execution_count": null,
   "metadata": {},
   "outputs": [],
   "source": [
    "#%% Initial imports etc\n",
    "import numpy\n",
    "from numpy.linalg import norm\n",
    "import matplotlib.pyplot as plt\n",
    "import matplotlib.animation as animation\n",
    "import os\n",
    "import sys\n",
    "import shutil\n",
    "#import scipy\n",
    "#from scipy import optimize\n",
    "import sirf.STIR as pet\n",
    "from sirf.Utilities import examples_data_path\n",
    "# plotting settings\n",
    "plt.ion() # interactive 'on' such that plots appear during loops\n",
    "\n",
    "%matplotlib notebook"
   ]
  },
  {
   "cell_type": "code",
   "execution_count": null,
   "metadata": {},
   "outputs": [],
   "source": [
    "#%% some handy function definitions\n",
    "def imshow(image, limits, title=''):\n",
    "    \"\"\"Usage: imshow(image, [min,max], title)\"\"\"\n",
    "    plt.title(title)\n",
    "    bitmap=plt.imshow(image)\n",
    "    if len(limits)==0:\n",
    "        limits=[image.min(),image.max()]\n",
    "                \n",
    "    plt.clim(limits[0], limits[1])\n",
    "    plt.colorbar(shrink=.6)\n",
    "    plt.axis('off');\n",
    "    return bitmap\n",
    "\n",
    "def make_positive(image_array):\n",
    "    \"\"\"truncate any negatives to zero\"\"\"\n",
    "    image_array[image_array<0] = 0;\n",
    "    return image_array;\n",
    "\n",
    "def make_cylindrical_FOV(image):\n",
    "    \"\"\"truncate to cylindrical FOV\"\"\"\n",
    "    filter = pet.TruncateToCylinderProcessor()\n",
    "    filter.apply(image)\n",
    "\n"
   ]
  },
  {
   "cell_type": "markdown",
   "metadata": {},
   "source": [
    "# Create some sample data"
   ]
  },
  {
   "cell_type": "code",
   "execution_count": null,
   "metadata": {},
   "outputs": [],
   "source": [
    "#%% go to directory with input files\n",
    "# adapt this path to your situation (or start everything in the relevant directory)\n",
    "os.chdir(examples_data_path('PET'))\n"
   ]
  },
  {
   "cell_type": "code",
   "execution_count": null,
   "metadata": {},
   "outputs": [],
   "source": [
    "#%% copy files to working folder and change directory to where the output files are\n",
    "shutil.rmtree('working_folder/thorax_single_slice',True)\n",
    "shutil.copytree('thorax_single_slice','working_folder/thorax_single_slice')\n",
    "os.chdir('working_folder/thorax_single_slice')"
   ]
  },
  {
   "cell_type": "code",
   "execution_count": null,
   "metadata": {},
   "outputs": [],
   "source": [
    "#%% Read in image\n",
    "image = pet.ImageData('emission.hv');\n",
    "# save max for future displays\n",
    "image_array=image.as_array()\n",
    "cmax = image_array.max()*.6"
   ]
  },
  {
   "cell_type": "code",
   "execution_count": null,
   "metadata": {},
   "outputs": [],
   "source": [
    "#%% create acquisition model\n",
    "am = pet.AcquisitionModelUsingRayTracingMatrix()\n",
    "templ = pet.AcquisitionData('template_sinogram.hs')\n",
    "am.set_up(templ,image); "
   ]
  },
  {
   "cell_type": "code",
   "execution_count": null,
   "metadata": {},
   "outputs": [],
   "source": [
    "#%% simulate some data using forward projection\n",
    "acquired_data=am.forward(image)"
   ]
  },
  {
   "cell_type": "markdown",
   "metadata": {},
   "source": [
    "# create OSEM reconstructor"
   ]
  },
  {
   "cell_type": "code",
   "execution_count": null,
   "metadata": {},
   "outputs": [],
   "source": [
    "#%% create objective function\n",
    "obj_fun = pet.make_Poisson_loglikelihood(acquired_data)\n",
    "obj_fun.set_acquisition_model(am)"
   ]
  },
  {
   "cell_type": "code",
   "execution_count": null,
   "metadata": {},
   "outputs": [],
   "source": [
    "#%% create OSEM reconstructor\n",
    "OSEM_reconstructor = pet.OSMAPOSLReconstructor()\n",
    "OSEM_reconstructor.set_objective_function(obj_fun)\n",
    "OSEM_reconstructor.set_num_subsets(1)\n",
    "num_subiters=10;\n",
    "OSEM_reconstructor.set_num_subiterations(num_subiters)"
   ]
  },
  {
   "cell_type": "code",
   "execution_count": null,
   "metadata": {},
   "outputs": [],
   "source": [
    "#%%  create initial image\n",
    "init_image=image.get_uniform_copy(cmax/4)\n",
    "make_cylindrical_FOV(init_image)"
   ]
  },
  {
   "cell_type": "code",
   "execution_count": null,
   "metadata": {},
   "outputs": [],
   "source": [
    "#%% initialise\n",
    "OSEM_reconstructor.set_up(init_image)"
   ]
  },
  {
   "cell_type": "markdown",
   "metadata": {},
   "source": [
    "# Implement MAP-EM!\n",
    "Actually, we will use implement MAP-OSEM as that's easy to do.\n",
    "\n",
    "The lines below (almost) implement MAP-OSEM with a prior which just smooths along the horizontal direction. If you run it, you should see some warnings, and get the wrong image. Try to fix that. Once you did that, either evaluate, and/or extend to 2D, and/or increase the speed of your Python code.\n",
    "\n",
    "We will use the algorithm described in\n",
    "\n",
    "Guobao Wang and Jinyi Qi,  \n",
    "Penalized Likelihood PET Image Reconstruction using Patch-based Edge-preserving Regularization  \n",
    "IEEE Trans Med Imaging. 2012 Dec; 31(12): 2194–2204.   \n",
    "[doi:  10.1109/TMI.2012.2211378](https://dx.doi.org/10.1109%2FTMI.2012.2211378)\n",
    "\n",
    "However, we will not used patches here, but just a simple quadratic prior.\n",
    "\n",
    "We will occasionally use the notation of the paper (but not consistently, mainly to avoid conflicts between a coordinate *x* and the image *x*).\n",
    "\n",
    "Please note: this code was written to be simple. It is not terribly safe, quite slow, and doesn't use best programming practices (it uses global variables, has no docstrings, no testing of validate of input, etc)."
   ]
  },
  {
   "cell_type": "markdown",
   "metadata": {},
   "source": [
    "## define weights as an array\n",
    "Note that code further below assumes that this has 3 elements\n"
   ]
  },
  {
   "cell_type": "code",
   "execution_count": null,
   "metadata": {},
   "outputs": [],
   "source": [
    "w=numpy.array([1.,0.,1.])\n",
    "# normalise to have sum 1\n",
    "w/=w.sum()"
   ]
  },
  {
   "cell_type": "markdown",
   "metadata": {},
   "source": [
    "## define a function that computes $x_{reg}$\n",
    "For a simple quadratic prior (with normalised weights)\n",
    "\n",
    "$x^{reg}_j={1\\over 2}\\sum_{k\\in N_j} w_{jk}(x_j+x_k)$"
   ]
  },
  {
   "cell_type": "code",
   "execution_count": null,
   "metadata": {},
   "outputs": [],
   "source": [
    "def compute_xreg(image_array):\n",
    "    sizes=image_array.shape\n",
    "    image_reg= image_array*0 # make a copy first. Will then change values\n",
    "    for z in range(0,sizes[0]):\n",
    "        for y in range(0,sizes[1]):\n",
    "            for x in range(1,sizes[2]-1): # ignore first and last pixel for simplicity\n",
    "                for dx in (-1,0,1):\n",
    "                    image_reg[z,y,x] += w[dx+1]/2*(image_array[z,y,x]+image_array[z,y,x+dx])\n",
    "            \n",
    "    return image_reg"
   ]
  },
  {
   "cell_type": "markdown",
   "metadata": {},
   "source": [
    "## define a function that computes the MAP-EM update, given $x_{EM}$ and $x_{reg}$\n",
    "\n",
    "$x^{new}={2 x^{EM}  \\over \\sqrt{(1-\\beta x^{reg})^2 + 4 \\beta x^{EM}} + (1-\\beta x^{reg})}$"
   ]
  },
  {
   "cell_type": "code",
   "execution_count": null,
   "metadata": {},
   "outputs": [],
   "source": [
    "def compute_MAPEM_update(xEM,xreg, beta):\n",
    "    return 2*xEM/(numpy.sqrt((1 - beta*xreg)**2 + 4*beta*xEM) + (1 - beta*xreg))"
   ]
  },
  {
   "cell_type": "markdown",
   "metadata": {},
   "source": [
    "## write MAP-OSEM and test it\n",
    "We have an existing EMML SIRF reconstruction that does the hard work, i.e. compute $x_{EM}$, so let's use that!"
   ]
  },
  {
   "cell_type": "code",
   "execution_count": null,
   "metadata": {},
   "outputs": [],
   "source": [
    "#%% useful for timing (using `time.time()`)\n",
    "import time"
   ]
  },
  {
   "cell_type": "code",
   "execution_count": null,
   "metadata": {},
   "outputs": [],
   "source": [
    "#%% define a function for plotting images and the updates\n",
    "# This is the same function as in `ML_reconstruction`\n",
    "def plot_progress(all_images, title, subiterations = []):\n",
    "    if len(subiterations)==0:\n",
    "        num_subiters = all_images[0].shape[0]-1;\n",
    "        subiterations = range(1, num_subiters+1);\n",
    "    num_rows = len(all_images);\n",
    "    for iter in subiterations:\n",
    "        plt.figure(iter)\n",
    "        for r in range(num_rows):\n",
    "            plt.subplot(num_rows,2,2*r+1)\n",
    "            imshow(all_images[r][iter,slice,:,:], [0,cmax], '%s at %d' % (title[r],  iter))\n",
    "            plt.subplot(num_rows,2,2*r+2)\n",
    "            imshow(all_images[r][iter,slice,:,:]-all_images[r][iter-1,slice,:,:],[-cmax*.1,cmax*.1], 'update')\n",
    "        plt.show()"
   ]
  },
  {
   "cell_type": "markdown",
   "metadata": {},
   "source": [
    "Finally, let's implement MAP-OSEM!"
   ]
  },
  {
   "cell_type": "code",
   "execution_count": null,
   "metadata": {},
   "outputs": [],
   "source": [
    "#%% do a loop, saving images as we go along\n",
    "num_subiters = 16;\n",
    "beta =1;\n",
    "current_image = init_image.clone()\n",
    "all_images = numpy.ndarray(shape=(num_subiters+1,) + current_image.as_array().shape );\n",
    "all_images[0,:,:,:] =  current_image.as_array();\n",
    "for iter in range(1, num_subiters+1):\n",
    "    image_reg= compute_xreg(current_image.as_array()) # compute xreg\n",
    "    OSEM_reconstructor.update(current_image); # compute EM update\n",
    "    image_EM=current_image.as_array() # get xEM as a numpy array\n",
    "    updated = compute_MAPEM_update(image_EM, image_reg, beta) # compute new update\n",
    "    current_image.fill(updated) # store for next iteration\n",
    "    print(iter)\n",
    "    all_images[iter,:,:,:] =  updated; # save for plotting later on"
   ]
  },
  {
   "cell_type": "code",
   "execution_count": null,
   "metadata": {},
   "outputs": [],
   "source": [
    "#%% display\n",
    "slice = 0\n",
    "imshow(current_image.as_array()[slice,:,:],[])"
   ]
  },
  {
   "cell_type": "code",
   "execution_count": null,
   "metadata": {},
   "outputs": [],
   "source": [
    "#%% now call this function to see how we went along\n",
    "subiterations = (1,2,4,8,16);\n",
    "plot_progress([all_images], ['MAP-OSEM'],subiterations)\n",
    "    "
   ]
  }
 ],
 "metadata": {
  "kernelspec": {
   "display_name": "Python 2",
   "language": "python",
   "name": "python2"
  },
  "language_info": {
   "codemirror_mode": {
    "name": "ipython"
   },
   "file_extension": ".py",
   "mimetype": "text/x-python",
   "name": "python",
   "nbconvert_exporter": "python"
  }
 },
 "nbformat": 4,
 "nbformat_minor": 2
}

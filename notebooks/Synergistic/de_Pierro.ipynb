{
 "cells": [
  {
   "cell_type": "markdown",
   "metadata": {},
   "source": [
    "# MAPEM de Pierro algorithm"
   ]
  },
  {
   "cell_type": "markdown",
   "metadata": {},
   "source": [
    "Authors: Sam Ellis, Richard Brown\n",
    "First version: 22nd of October 2019\n",
    "\n",
    "CCP PETMR Synergistic Image Reconstruction Framework (SIRF)  \n",
    "Copyright 2019  University College London.\n",
    "Copyright 2019  King's College London\n",
    "\n",
    "This is software developed for the Collaborative Computational\n",
    "Project in Positron Emission Tomography and Magnetic Resonance imaging\n",
    "(http://www.ccppetmr.ac.uk/).\n",
    "\n",
    "Licensed under the Apache License, Version 2.0 (the \"License\");\n",
    "you may not use this file except in compliance with the License.\n",
    "You may obtain a copy of the License at\n",
    "    http://www.apache.org/licenses/LICENSE-2.0\n",
    "Unless required by applicable law or agreed to in writing, software\n",
    "distributed under the License is distributed on an \"AS IS\" BASIS,\n",
    "WITHOUT WARRANTIES OR CONDITIONS OF ANY KIND, either express or implied.\n",
    "See the License for the specific language governing permissions and\n",
    "limitations under the License.\n",
    "\n",
    "N.B.: You need to have run the [generate_data](./generate_data.ipynb) notebook first."
   ]
  },
  {
   "cell_type": "code",
   "execution_count": null,
   "metadata": {},
   "outputs": [],
   "source": [
    "#%% make sure figures appears inline and animations works\n",
    "%matplotlib notebook"
   ]
  },
  {
   "cell_type": "code",
   "execution_count": null,
   "metadata": {},
   "outputs": [],
   "source": [
    "import sirf.STIR as pet\n",
    "import matplotlib.pyplot as plt\n",
    "import os\n",
    "import numpy as np\n",
    "from numpy.linalg import norm\n",
    "import sirf.contrib.kcl.Prior as pr\n",
    "import shutil\n",
    "\n",
    "# Get to correct directory\n",
    "os.chdir(\"/data\")\n",
    "\n",
    "#%% copy files to working folder and change directory to where the output files are\n",
    "shutil.rmtree('working_folder/dePierro_thorax',True)\n",
    "shutil.copytree('SRS_data_exhale','working_folder/dePierro_thorax')\n",
    "os.chdir('working_folder/dePierro_thorax')"
   ]
  },
  {
   "cell_type": "code",
   "execution_count": null,
   "metadata": {},
   "outputs": [],
   "source": [
    "#%% some handy function definitions\n",
    "def imshow(image, limits=None, title=''):\n",
    "    \"\"\"Usage: imshow(image, [min,max], title)\"\"\"\n",
    "    plt.title(title)\n",
    "    bitmap = plt.imshow(image)\n",
    "    if limits is None:\n",
    "        limits = [image.min(), image.max()]\n",
    "                \n",
    "    plt.clim(limits[0], limits[1])\n",
    "    plt.colorbar(shrink=.6)\n",
    "    plt.axis('off')\n",
    "    return bitmap\n",
    "\n",
    "def make_cylindrical_FOV(image):\n",
    "    \"\"\"truncate to cylindrical FOV\"\"\"\n",
    "    filter = pet.TruncateToCylinderProcessor()\n",
    "    filter.apply(image)"
   ]
  },
  {
   "cell_type": "markdown",
   "metadata": {},
   "source": [
    "### Load some data and set some values"
   ]
  },
  {
   "cell_type": "code",
   "execution_count": null,
   "metadata": {},
   "outputs": [],
   "source": [
    "sino = pet.AcquisitionData('noisy_sino.hs')\n",
    "atten = pet.ImageData('PET_attenuation.nii')\n",
    "num_subsets = 21\n",
    "num_subiters = 42\n",
    "\n",
    "# Anatomical image\n",
    "anatomical = pet.ImageData('MR_T1.nii') # could be MR_T2.nii or MR_PD.nii\n",
    "anatomical_arr = anatomical.as_array()\n",
    "\n",
    "#%%  create initial image\n",
    "init_image=atten.get_uniform_copy(atten.as_array().max()*.1)\n",
    "make_cylindrical_FOV(init_image)"
   ]
  },
  {
   "cell_type": "markdown",
   "metadata": {},
   "source": [
    "## Set up the acquisition model and objective function"
   ]
  },
  {
   "cell_type": "code",
   "execution_count": null,
   "metadata": {},
   "outputs": [],
   "source": [
    "#%% create acquisition model\n",
    "am = pet.AcquisitionModelUsingRayTracingMatrix()\n",
    "am.set_num_tangential_LORs(5)\n",
    "\n",
    "# Set up sensitivity due to attenuation\n",
    "asm_attn = pet.AcquisitionSensitivityModel(atten, am)\n",
    "asm_attn.set_up(sino)\n",
    "bin_eff = pet.AcquisitionData(sino)\n",
    "bin_eff.fill(1.0)\n",
    "asm_attn.unnormalise(bin_eff)\n",
    "asm_attn = pet.AcquisitionSensitivityModel(bin_eff)\n",
    "\n",
    "# Set sensitivity of the model and set up\n",
    "am.set_acquisition_sensitivity(asm_attn)\n",
    "am.set_up(sino,atten);\n",
    "\n",
    "#%% create objective function\n",
    "obj_fun = pet.make_Poisson_loglikelihood(sino)\n",
    "obj_fun.set_acquisition_model(am)"
   ]
  },
  {
   "cell_type": "markdown",
   "metadata": {},
   "source": [
    "## Normal OSEM"
   ]
  },
  {
   "cell_type": "code",
   "execution_count": null,
   "metadata": {},
   "outputs": [],
   "source": [
    "#%% create OSEM reconstructor\n",
    "OSEM_reconstructor = pet.OSMAPOSLReconstructor()\n",
    "OSEM_reconstructor.set_objective_function(obj_fun)\n",
    "OSEM_reconstructor.set_num_subsets(num_subsets)\n",
    "OSEM_reconstructor.set_num_subiterations(num_subiters)\n",
    "\n",
    "reconstructed_image = init_image.clone()\n",
    "OSEM_reconstructor.set_up(reconstructed_image)\n",
    "OSEM_reconstructor.reconstruct(reconstructed_image)"
   ]
  },
  {
   "cell_type": "markdown",
   "metadata": {},
   "source": [
    "### Display OSEM"
   ]
  },
  {
   "cell_type": "code",
   "execution_count": null,
   "metadata": {},
   "outputs": [],
   "source": [
    "recon_arr = reconstructed_image.as_array()\n",
    "plt.subplot(1,3,1);\n",
    "imshow(recon_arr[:,:,60],[0, 0.1]);\n",
    "plt.subplot(1,3,2);\n",
    "imshow(recon_arr[:,60,:],[0, 0.1]);\n",
    "plt.subplot(1,3,3);\n",
    "imshow(recon_arr[60,:,:],[0, 0.1]);"
   ]
  },
  {
   "cell_type": "markdown",
   "metadata": {},
   "source": [
    "## Now use dePierro MAPEM"
   ]
  },
  {
   "cell_type": "code",
   "execution_count": null,
   "metadata": {},
   "outputs": [],
   "source": [
    "def dePierroUpdate(imageEM, imageReg, beta, sensImg):\n",
    "    \n",
    "    delta = 1e-6*abs(sensImg).max()\n",
    "    sensImg[sensImg < delta] = delta # avoid division by zero\n",
    "    beta_j = beta/sensImg\n",
    "    \n",
    "    b_j = 1 - beta_j*imageReg\n",
    "    \n",
    "    numer = (2*imageEM)\n",
    "    denom = ((b_j**2 + 4*beta_j*imageEM)**0.5 + b_j)\n",
    "    \n",
    "    delta = 1e-6*abs(denom).max()\n",
    "    denom[denom < delta] = delta # avoid division by zero\n",
    "    \n",
    "    imageUpdated = numer/denom\n",
    "    \n",
    "    return imageUpdated\n",
    "\n",
    "\n",
    "def dePierroReg(image,weights):\n",
    "    \n",
    "    # get size and vectorise image for indexing \n",
    "    imSize = image.shape\n",
    "    imageVec = image.reshape(-1,1,order='F').flatten('F')\n",
    "    \n",
    "    # get the neigbourhoods of each voxel\n",
    "    weightsSize = weights.shape\n",
    "    w = int(round(weightsSize[1]**(1.0/3))) # side length of neighbourhood\n",
    "    nhoodInd    = neighbourExtract(imSize,w)\n",
    "    nhoodIndVec = nhoodInd.reshape(-1,1,order='F').flatten('F')\n",
    "    \n",
    "    # retrieve voxel intensities for neighbourhoods \n",
    "    resultVec = np.float32(imageVec[nhoodIndVec])\n",
    "    result = resultVec.reshape(nhoodInd.shape,order='F')\n",
    "    \n",
    "    # compute xreg\n",
    "    try:\n",
    "        imageReg = 0.5*np.sum(weights*(result + np.float32(image).reshape(-1,1,order='F')),axis=1)\n",
    "    except:\n",
    "        tmpVar = 1;    \n",
    "    imageReg = imageReg.reshape(imSize,order='F')\n",
    "    \n",
    "    return imageReg\n",
    "\n",
    "\n",
    "def neighbourExtract(imageSize,w):\n",
    "    # Adapted from Prior class        \n",
    "    n = imageSize[0]\n",
    "    m = imageSize[1]\n",
    "    h = imageSize[2]\n",
    "    wlen = 2*np.floor(w/2)\n",
    "    widx = xidx = yidx = np.arange(-wlen/2,wlen/2+1)\n",
    "\n",
    "    if h==1:\n",
    "        zidx = [0]\n",
    "        nN = w*w\n",
    "    else:\n",
    "        zidx = widx\n",
    "        nN = w*w*w\n",
    "        \n",
    "    Y,X,Z = np.meshgrid(np.arange(0,m), np.arange(0,n), np.arange(0,h))                \n",
    "    N = np.zeros([n*m*h, nN],dtype='int32')\n",
    "    l = 0\n",
    "    for x in xidx:\n",
    "        Xnew = setBoundary(X + x,n)\n",
    "        for y in yidx:\n",
    "            Ynew = setBoundary(Y + y,m)\n",
    "            for z in zidx:\n",
    "                Znew = setBoundary(Z + z,h)\n",
    "                N[:,l] = ((Xnew + (Ynew)*n + (Znew)*n*m)).reshape(-1,1).flatten('F')\n",
    "                l += 1\n",
    "    return N\n",
    "\n",
    "\n",
    "def setBoundary(X,n):\n",
    "    # Boundary conditions for neighbourExtract\n",
    "    # Adapted from Prior class\n",
    "    idx = X<0\n",
    "    X[idx] = X[idx] + n\n",
    "    idx = X>n-1\n",
    "    X[idx] = X[idx] - n\n",
    "    return X.flatten('F')"
   ]
  },
  {
   "cell_type": "markdown",
   "metadata": {},
   "source": [
    "### MAPEM input data and parameters"
   ]
  },
  {
   "cell_type": "code",
   "execution_count": null,
   "metadata": {},
   "outputs": [],
   "source": [
    "sensitivity_image = obj_fun.get_subset_sensitivity(0)\n",
    "de_pierro_reconstructed_image = init_image.clone()\n",
    "beta = 5000"
   ]
  },
  {
   "cell_type": "code",
   "execution_count": null,
   "metadata": {},
   "outputs": [],
   "source": [
    "# create a Prior for computing Bowsher weights\n",
    "myPrior = pr.Prior(anatomical_arr.shape)\n",
    "weights = myPrior.BowshserWeights(anatomical_arr,7)\n",
    "weights = np.float32(weights/7.0)\n",
    "if (np.abs(np.sum(weights,axis=1)-1)>1.0e-6).any():\n",
    "    raise ValueError(\"Weights should sum to 1 for each voxel\")\n",
    "\n",
    "# Create OSEM reconstructor\n",
    "print('Setting up reconstruction object')\n",
    "OSEM_reconstructor = pet.OSMAPOSLReconstructor()\n",
    "OSEM_reconstructor.set_objective_function(obj_fun)                             \n",
    "OSEM_reconstructor.set_num_subsets(num_subsets)\n",
    "OSEM_reconstructor.set_num_subiterations(num_subiters)\n",
    "OSEM_reconstructor.set_up(de_pierro_reconstructed_image)"
   ]
  },
  {
   "cell_type": "code",
   "execution_count": null,
   "metadata": {},
   "outputs": [],
   "source": [
    "for iter in range(1,num_subiters + 1):\n",
    "    print('\\n------------- Subiteration %d' % iter) \n",
    "    \n",
    "    # Calculate imageReg and return as an array\n",
    "    imageReg_array = dePierroReg(de_pierro_reconstructed_image.as_array(),weights)\n",
    "    \n",
    "    # OSEM image update\n",
    "    OSEM_reconstructor.update(de_pierro_reconstructed_image)\n",
    "    imageEM_array = de_pierro_reconstructed_image.as_array()\n",
    "\n",
    "    # Final image update\n",
    "    imageUpdated_array = dePierroUpdate \\\n",
    "        (imageEM_array, imageReg_array, beta, sensitivity_image.as_array())\n",
    "\n",
    "    # Fill image and truncate to cylindrical field of view        \n",
    "    de_pierro_reconstructed_image.fill(imageUpdated_array)\n",
    "    make_cylindrical_FOV(de_pierro_reconstructed_image)"
   ]
  },
  {
   "cell_type": "code",
   "execution_count": null,
   "metadata": {},
   "outputs": [],
   "source": [
    "plt.figure()\n",
    "\n",
    "depier_arr = de_pierro_reconstructed_image.as_array()\n",
    "\n",
    "plt.subplot(2,3,1);\n",
    "imshow(recon_arr[:,:,60],[0, 0.05]);\n",
    "plt.subplot(2,3,2);\n",
    "imshow(recon_arr[:,60,:],[0, 0.05]);\n",
    "plt.subplot(2,3,3);\n",
    "imshow(recon_arr[60,:,:],[0, 0.05]);\n",
    "plt.subplot(2,3,4);\n",
    "imshow(depier_arr[:,:,60],[0, 0.05]);\n",
    "plt.subplot(2,3,5);\n",
    "imshow(depier_arr[:,60,:],[0, 0.05]);\n",
    "plt.subplot(2,3,6);\n",
    "imshow(depier_arr[60,:,:],[0, 0.05]);"
   ]
  }
 ],
 "metadata": {
  "kernelspec": {
   "display_name": "Python 2",
   "language": "python",
   "name": "python2"
  },
  "language_info": {
   "codemirror_mode": {
    "name": "ipython"
   },
   "file_extension": ".py",
   "mimetype": "text/x-python",
   "name": "python",
   "nbconvert_exporter": "python"
  }
 },
 "nbformat": 4,
 "nbformat_minor": 2
}

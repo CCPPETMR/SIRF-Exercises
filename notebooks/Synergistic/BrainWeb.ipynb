{
 "cells": [
  {
   "cell_type": "code",
   "execution_count": null,
   "metadata": {},
   "outputs": [],
   "source": [
    "from __future__ import print_function, division\n",
    "%matplotlib notebook\n",
    "import brainweb\n",
    "from brainweb import volshow\n",
    "import numpy as np\n",
    "from os import path\n",
    "from tqdm.auto import tqdm\n",
    "import logging\n",
    "logging.basicConfig(level=logging.INFO)\n",
    "import nibabel as nib\n",
    "import sirf.STIR as pet\n",
    "import matplotlib.pyplot as plt\n",
    "import os\n",
    "\n",
    "os.chdir(\"/Users/rich/Documents/Data/brainweb/\")\n",
    "# download\n",
    "# files = brainweb.get_files(\".\")\n",
    "# file = [0]\n",
    "file = \"subject_04.bin.gz\"\n",
    "# read first\n",
    "data = brainweb.load_file(file)\n"
   ]
  },
  {
   "cell_type": "code",
   "execution_count": null,
   "metadata": {},
   "outputs": [],
   "source": [
    "brainweb.seed(1337)\n",
    "\n",
    "for f in tqdm([file], desc=\"mMR ground truths\", unit=\"subject\"):\n",
    "    vol = brainweb.get_mmr_fromfile(\n",
    "        f,\n",
    "        petNoise=1, t1Noise=0.75, t2Noise=0.75,\n",
    "        petSigma=1, t1Sigma=1, t2Sigma=1)"
   ]
  },
  {
   "cell_type": "code",
   "execution_count": null,
   "metadata": {},
   "outputs": [],
   "source": [
    "print(f)\n",
    "volshow([vol['PET' ][:, 100:-100, 100:-100],\n",
    "         vol['uMap'][:, 100:-100, 100:-100],\n",
    "         vol['T1'  ][:, 100:-100, 100:-100],\n",
    "         vol['T2'  ][:, 100:-100, 100:-100]],\n",
    "        cmaps=['hot', 'bone', 'Greys_r', 'Greys_r'],\n",
    "        titles=[\"PET\", \"uMap\", \"T1\", \"T2\"]);"
   ]
  },
  {
   "cell_type": "code",
   "execution_count": null,
   "metadata": {},
   "outputs": [],
   "source": [
    "# add some lesions\n",
    "brainweb.seed(1339)\n",
    "# PET_tumour = brainweb.add_lesions(vol['PET']) \n",
    "# T1_tumour = brainweb.add_lesions(vol['T1'])\n",
    "# T2_tumour = brainweb.add_lesions(vol['T2'])\n",
    "\n",
    "volshow([PET_tumour[:, 100:-100, 100:-100],\n",
    "         vol['uMap'][:, 100:-100, 100:-100],\n",
    "         T1_tumour  [:, 100:-100, 100:-100],\n",
    "         T2_tumour  [:, 100:-100, 100:-100]],\n",
    "        cmaps=['hot', 'bone', 'Greys_r', 'Greys_r'],\n",
    "        titles=[\"PET\", \"uMap\", \"T1\", \"T2\"]);"
   ]
  },
  {
   "cell_type": "markdown",
   "metadata": {},
   "source": [
    "## Save as STIR interfile"
   ]
  },
  {
   "cell_type": "code",
   "execution_count": null,
   "metadata": {},
   "outputs": [],
   "source": [
    "# We'll need a template sinogram\n",
    "import sirf.STIR as pet\n",
    "templ_sino = pet.AcquisitionData('mMR_template_span11_small.hs')\n",
    "\n",
    "def crop_image(vol):\n",
    "    return vol[:,17:17+285,17:17+285]\n",
    "\n",
    "def save_as_interfile(templ_sino, vol, fname):\n",
    "    # Crop to (127,285,285)\n",
    "    vol = crop_image(vol)\n",
    "    im = pet.ImageData(templ_sino)\n",
    "    im.fill(vol)\n",
    "    im.write(fname)\n",
    "\n",
    "save_as_interfile(templ_sino, vol['PET'], \"subj_04_PET\")\n",
    "save_as_interfile(templ_sino, vol['uMap'],\"subj_04_uMap\")\n",
    "save_as_interfile(templ_sino, vol['T1'],  \"subj_04_T1\")\n",
    "save_as_interfile(templ_sino, vol['T2'],  \"subj_04_T2\")\n",
    "save_as_interfile(templ_sino, PET_tumour, \"subj_04_PET_tumour\")\n",
    "save_as_interfile(templ_sino, T1_tumour,  \"subj_04_T1_tumour\")\n",
    "save_as_interfile(templ_sino, T2_tumour,  \"subj_04_T2_tumour\")"
   ]
  },
  {
   "cell_type": "markdown",
   "metadata": {},
   "source": [
    "## Forward project"
   ]
  },
  {
   "cell_type": "code",
   "execution_count": null,
   "metadata": {},
   "outputs": [],
   "source": [
    "# We'll need a template sinogram\n",
    "templ_sino = pet.AcquisitionData('mMR_template_span11_small.hs')\n",
    "\n",
    "# Attenuation from template\n",
    "gt_atten = pet.ImageData(templ_sino)\n",
    "gt_atten.fill(crop_image(vol['uMap']))\n",
    "\n",
    "#%% create acquisition model\n",
    "am = pet.AcquisitionModelUsingRayTracingMatrix()\n",
    "am.set_num_tangential_LORs(5)\n",
    "\n",
    "# Set up sensitivity due to attenuation\n",
    "asm_attn = pet.AcquisitionSensitivityModel(gt_atten, am)\n",
    "asm_attn.set_up(templ_sino)\n",
    "bin_eff = pet.AcquisitionData(templ_sino)\n",
    "bin_eff.fill(1.0)\n",
    "print('applying attenuation (please wait, may take a while)...')\n",
    "asm_attn.unnormalise(bin_eff)\n",
    "asm_attn = pet.AcquisitionSensitivityModel(bin_eff)\n",
    "\n",
    "am.set_acquisition_sensitivity(asm_attn)\n",
    "\n",
    "am.set_up(templ_sino,gt_atten);"
   ]
  },
  {
   "cell_type": "code",
   "execution_count": null,
   "metadata": {},
   "outputs": [],
   "source": [
    "def fwd_prj(am,vol,template_im,add_noise):\n",
    "    image = template_im.clone()\n",
    "    image.fill(vol)\n",
    "    proj_data = am.forward(image)\n",
    "    if add_noise:\n",
    "        proj_data_arr = np.abs(proj_data.as_array());\n",
    "        noisy_array = np.random.poisson(proj_data_arr).astype('float32');\n",
    "        proj_data.fill(noisy_array);\n",
    "    return proj_data"
   ]
  },
  {
   "cell_type": "markdown",
   "metadata": {},
   "source": [
    "## Do PET data w and w/o tumour and w and w/o noise"
   ]
  },
  {
   "cell_type": "code",
   "execution_count": null,
   "metadata": {},
   "outputs": [],
   "source": [
    "sino_PET = fwd_prj(am,crop_image(vol['PET']),gt_atten,False)\n",
    "sino_PET.write(\"subj_04_sino\")"
   ]
  },
  {
   "cell_type": "code",
   "execution_count": null,
   "metadata": {},
   "outputs": [],
   "source": [
    "sino_PET_tumour = fwd_prj(am,crop_image(PET_tumour),gt_atten,False)\n",
    "sino_PET_tumour.write(\"subj_04_sino_tumour\")"
   ]
  },
  {
   "cell_type": "code",
   "execution_count": null,
   "metadata": {},
   "outputs": [],
   "source": [
    "sino_PET_noisy = fwd_prj(am,crop_image(vol['PET']),gt_atten,True)\n",
    "sino_PET_noisy.write(\"subj_04_sino_noisy\")"
   ]
  },
  {
   "cell_type": "code",
   "execution_count": null,
   "metadata": {},
   "outputs": [],
   "source": [
    "sino_PET_noisy_tumour = fwd_prj(am,crop_image(PET_tumour),gt_atten,True)\n",
    "sino_PET_noisy_tumour.write(\"/Users/rich/Documents/Data/brainweb/subj_04_sino_noisy_tumour\")"
   ]
  },
  {
   "cell_type": "markdown",
   "metadata": {},
   "source": [
    "## Use single slice rebinning (SSRB) in STIR to get 2D sinograms"
   ]
  },
  {
   "cell_type": "code",
   "execution_count": null,
   "metadata": {},
   "outputs": [],
   "source": [
    "def get_2d_sino(input_sino):\n",
    "    vxc\n",
    "    xcv\n",
    "    cxv\n",
    "    xc\n",
    "    cx\n",
    "    v\n",
    "    xcv\n",
    "    c"
   ]
  }
 ],
 "metadata": {
  "kernelspec": {
   "display_name": "Python 3",
   "language": "python",
   "name": "python3"
  },
  "language_info": {
   "codemirror_mode": {
    "name": "ipython"
   },
   "file_extension": ".py",
   "mimetype": "text/x-python",
   "name": "python",
   "nbconvert_exporter": "python"
  }
 },
 "nbformat": 4,
 "nbformat_minor": 2
}

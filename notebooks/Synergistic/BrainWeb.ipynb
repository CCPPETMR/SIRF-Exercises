{
 "cells": [
  {
   "cell_type": "code",
   "execution_count": null,
   "metadata": {},
   "outputs": [],
   "source": [
    "from __future__ import print_function, division\n",
    "%matplotlib notebook\n",
    "import brainweb\n",
    "from brainweb import volshow\n",
    "import numpy as np\n",
    "from os import path\n",
    "from tqdm.auto import tqdm\n",
    "import logging\n",
    "logging.basicConfig(level=logging.INFO)\n",
    "import nibabel as nib\n",
    "import sirf.STIR as pet\n",
    "import matplotlib.pyplot as plt\n",
    "import os\n",
    "import sirf.Reg as reg\n",
    "from math import cos, sin, pi\n",
    "from sirf.Utilities import examples_data_path\n",
    "import shutil"
   ]
  },
  {
   "cell_type": "code",
   "execution_count": null,
   "metadata": {},
   "outputs": [],
   "source": [
    "os.chdir(examples_data_path('PET'))\n",
    "shutil.rmtree('working_folder/brainweb',True)\n",
    "shutil.copytree('brain','working_folder/brainweb')\n",
    "os.chdir('working_folder/brainweb')"
   ]
  },
  {
   "cell_type": "code",
   "execution_count": null,
   "metadata": {},
   "outputs": [],
   "source": [
    "# Get the data. You'll need to run \"pip install brainweb\"\n",
    "# if you don't have it already\n",
    "file,url= list(brainweb.utils.LINKS.items())[0]\n",
    "files = brainweb.get_file(file,url,\".\")\n",
    "data = brainweb.load_file(file)\n",
    "\n",
    "brainweb.seed(1337)\n",
    "\n",
    "for f in tqdm([file], desc=\"mMR ground truths\", unit=\"subject\"):\n",
    "    vol = brainweb.get_mmr_fromfile(\n",
    "        f,\n",
    "        petNoise=1, t1Noise=0.75, t2Noise=0.75,\n",
    "        petSigma=1, t1Sigma=1, t2Sigma=1)\n",
    "    vol_amyl = brainweb.get_mmr_fromfile(\n",
    "        f,\n",
    "        petNoise=1, t1Noise=0.75, t2Noise=0.75,\n",
    "        petSigma=1, t1Sigma=1, t2Sigma=1,\n",
    "        PetClass=brainweb.Amyloid)\n",
    "\n",
    "FDG  = vol['PET']\n",
    "amyl = vol_amyl['PET']\n",
    "uMap = vol['uMap']\n",
    "T1   = vol['T1']\n",
    "T2   = vol['T2']"
   ]
  },
  {
   "cell_type": "code",
   "execution_count": null,
   "metadata": {},
   "outputs": [],
   "source": [
    "def subplot_(idx,vol,title,clims=None,cmap=\"viridis\"):\n",
    "    plt.subplot(*idx)\n",
    "    plt.imshow(vol,cmap=cmap)\n",
    "    if not clims is None:\n",
    "        plt.clim(clims)\n",
    "    plt.colorbar()\n",
    "    plt.title(title)\n",
    "    plt.axis(\"off\")\n",
    "\n",
    "plt.figure();\n",
    "slice = FDG.shape[0]//2\n",
    "subplot_([2,3,1],FDG [slice, 100:-100, 100:-100],'FDG'    ,cmap=\"hot\")\n",
    "subplot_([2,3,2],amyl[slice, 100:-100, 100:-100],'Amyloid',cmap=\"hot\")\n",
    "subplot_([2,3,3],uMap[slice, 100:-100, 100:-100],'uMap'   ,cmap=\"bone\")\n",
    "subplot_([2,3,4],T1  [slice, 100:-100, 100:-100],'T1'     ,cmap=\"Greys_r\")\n",
    "subplot_([2,3,5],T2  [slice, 100:-100, 100:-100],'T2'     ,cmap=\"Greys_r\")"
   ]
  },
  {
   "cell_type": "markdown",
   "metadata": {},
   "source": [
    "## Save as STIR interfile"
   ]
  },
  {
   "cell_type": "code",
   "execution_count": null,
   "metadata": {},
   "outputs": [],
   "source": [
    "# We'll need a template sinogram\n",
    "import sirf.STIR as pet\n",
    "templ_sino = pet.AcquisitionData('mMR_template_span11.hs')\n",
    "\n",
    "def crop_image(vol):\n",
    "    return vol[:,17:17+285,17:17+285]\n",
    "\n",
    "def save_as_interfile(templ_sino, vol, fname):\n",
    "    # Crop to (127,285,285)\n",
    "    vol = crop_image(vol)\n",
    "    im = pet.ImageData(templ_sino)\n",
    "    im.fill(vol)\n",
    "    im.write(fname)\n",
    "    # Use the zoom functionality\n",
    "    small_fname = fname + \"_small.hv\"\n",
    "    !zoom_image {small_fname} {fname}.hv 150 1 25 25\n",
    "    # Remove all offset info\n",
    "    !sed -i '' '/first pixel offset (mm)/d' {small_fname}\n",
    "    # Read back in and return\n",
    "    return pet.ImageData(small_fname)\n",
    "\n",
    "FDG  = save_as_interfile(templ_sino, FDG,  \"FDG\"    )\n",
    "amyl = save_as_interfile(templ_sino, amyl, \"Amyloid\")\n",
    "uMap = save_as_interfile(templ_sino, uMap, \"uMap\"   )\n",
    "T1   = save_as_interfile(templ_sino, T1,   \"T1\"     )\n",
    "T2   = save_as_interfile(templ_sino, T2,   \"T2\"     )"
   ]
  },
  {
   "cell_type": "markdown",
   "metadata": {},
   "source": [
    "## Forward project"
   ]
  },
  {
   "cell_type": "code",
   "execution_count": null,
   "metadata": {},
   "outputs": [],
   "source": [
    "def get_acquisition_model(uMap):\n",
    "    # We'll need a template sinogram\n",
    "    templ_sino = pet.AcquisitionData('mMR_template_span11.hs')\n",
    "\n",
    "    #%% create acquisition model\n",
    "    am = pet.AcquisitionModelUsingRayTracingMatrix()\n",
    "    am.set_num_tangential_LORs(5)\n",
    "\n",
    "    # Set up sensitivity due to attenuation\n",
    "    asm_attn = pet.AcquisitionSensitivityModel(uMap, am)\n",
    "    asm_attn.set_up(templ_sino)\n",
    "    bin_eff = pet.AcquisitionData(templ_sino)\n",
    "    bin_eff.fill(1.0)\n",
    "    print('applying attenuation (please wait, may take a while)...')\n",
    "    asm_attn.unnormalise(bin_eff)\n",
    "    asm_attn = pet.AcquisitionSensitivityModel(bin_eff)\n",
    "\n",
    "    am.set_acquisition_sensitivity(asm_attn)\n",
    "\n",
    "    am.set_up(templ_sino,uMap);\n",
    "    return am"
   ]
  },
  {
   "cell_type": "code",
   "execution_count": null,
   "metadata": {},
   "outputs": [],
   "source": [
    "# Function for adding noise\n",
    "def add_noise(proj_data,noise_factor = 1):\n",
    "    proj_data_arr = proj_data.as_array() / noise_factor\n",
    "    # Data should be >=0 anyway, but add abs just to be safe\n",
    "    proj_data_arr = np.abs(proj_data_arr)\n",
    "    noisy_proj_data_arr = np.random.poisson(proj_data_arr).astype('float32');\n",
    "    noisy_proj_data = proj_data.clone()\n",
    "    noisy_proj_data.fill(noisy_proj_data_arr);\n",
    "    return noisy_proj_data"
   ]
  },
  {
   "cell_type": "code",
   "execution_count": null,
   "metadata": {},
   "outputs": [],
   "source": [
    "am = get_acquisition_model(uMap)\n",
    "\n",
    "# FDG\n",
    "sino_FDG = am.forward(FDG)\n",
    "sino_FDG.write(\"FDG_sino\")\n",
    "sino_FDG_noisy = add_noise(sino_FDG,1000)\n",
    "sino_FDG_noisy.write(\"FDG_sino_noisy\")\n",
    "\n",
    "# Amyloid\n",
    "sino_amyl = am.forward(amyl)\n",
    "sino_amyl.write(\"amyl_sino\")\n",
    "sino_amyl_noisy = add_noise(sino_amyl,1000)\n",
    "sino_amyl_noisy.write(\"amyl_sino_noisy\")"
   ]
  },
  {
   "cell_type": "code",
   "execution_count": null,
   "metadata": {},
   "outputs": [],
   "source": [
    "plt.figure();\n",
    "subplot_([2,2,1],       sino_FDG.as_array()[0,60,:,:],'FDG'          )\n",
    "subplot_([2,2,2], sino_FDG_noisy.as_array()[0,60,:,:],'Noisy FDG'    )\n",
    "subplot_([2,2,3],      sino_amyl.as_array()[0,60,:,:],'Amyloid'      )\n",
    "subplot_([2,2,4],sino_amyl_noisy.as_array()[0,60,:,:],'Noisy amyloid')"
   ]
  },
  {
   "cell_type": "markdown",
   "metadata": {},
   "source": [
    "# Add misalignment to amyloid "
   ]
  },
  {
   "cell_type": "code",
   "execution_count": null,
   "metadata": {},
   "outputs": [],
   "source": [
    "def add_misalignment(transformation_matrix,image):\n",
    "\n",
    "    # Resample\n",
    "    resampler = reg.NiftyResample()\n",
    "    resampler.set_interpolation_type_to_cubic_spline()\n",
    "    resampler.set_reference_image(image)\n",
    "    resampler.set_floating_image(image)\n",
    "    resampler.set_padding_value(0)\n",
    "    resampler.add_transformation(transformation_matrix)\n",
    "    resampler.process()\n",
    "    \n",
    "    # Annoyingly, need to save to file twice\n",
    "    # Once to be able to load as a STIR image (NiftiImageData->STIR.ImageData not currently implemented)\n",
    "    # Second to be able to clear the offsets (to stop projector from complaining)\n",
    "    resampled = resampler.get_output().write(\"tmp_resampled.nii\")\n",
    "    \n",
    "    resampled_STIR = pet.ImageData(\"tmp_resampled.nii\")\n",
    "    resampled_STIR.write(\"tmp_resampled.hv\")\n",
    "    \n",
    "    # Remove all offset info\n",
    "    !sed -i '' '/first pixel offset (mm)/d' tmp_resampled.hv\n",
    "    # Read back in and return\n",
    "    return pet.ImageData(\"tmp_resampled.hv\")"
   ]
  },
  {
   "cell_type": "code",
   "execution_count": null,
   "metadata": {},
   "outputs": [],
   "source": [
    "# Rotation matrix\n",
    "r = 30*pi/180\n",
    "t_x = 20\n",
    "t_y = -10\n",
    "\n",
    "tm = reg.AffineTransformation(np.array(\\\n",
    "        [[ cos(r), sin(r), 0, t_x], \\\n",
    "         [-sin(r), cos(r), 0, t_y], \\\n",
    "         [      0,      0, 1, 0  ], \\\n",
    "         [      0,      0, 0, 1  ]]))\n",
    "\n",
    "amyl_misaligned = add_misalignment(tm,amyl)\n",
    "uMap_misaligned = add_misalignment(tm,uMap)\n",
    "\n",
    "# Display\n",
    "def subplot_(idx,vol,title,clims=None,cmap=\"viridis\"):\n",
    "    plt.subplot(*idx)\n",
    "    plt.imshow(vol,cmap=cmap)\n",
    "    if not clims is None:\n",
    "        plt.clim(clims)\n",
    "    plt.colorbar()\n",
    "    plt.title(title)\n",
    "    plt.axis(\"off\")\n",
    "   \n",
    "plt.figure()\n",
    "subplot_([2,2,1],amyl.as_array()[60,:,:],'Amyloid')\n",
    "subplot_([2,2,2],uMap.as_array()[60,:,:],'uMap')\n",
    "subplot_([2,2,3],amyl_misaligned.as_array()[60,:,:],'Resampled Amyloid')\n",
    "subplot_([2,2,4],uMap_misaligned.as_array()[60,:,:],'Resampled uMap')"
   ]
  },
  {
   "cell_type": "code",
   "execution_count": null,
   "metadata": {},
   "outputs": [],
   "source": [
    "# Get acquisition model for resampled data\n",
    "am_misaligned = get_acquisition_model(uMap_misaligned)\n",
    "\n",
    "# Forward project again\n",
    "sino_amyl_misaligned = am_misaligned.forward(amyl_misaligned)\n",
    "sino_amyl_misaligned.write(\"amyl_sino_misaligned\")\n",
    "sino_amyl_noisy_misaligned = add_noise(sino_amyl_misaligned,1000)\n",
    "sino_amyl_noisy_misaligned.write(\"amyl_sino_noisy_misaligned\")"
   ]
  },
  {
   "cell_type": "code",
   "execution_count": null,
   "metadata": {},
   "outputs": [],
   "source": [
    "plt.figure()\n",
    "subplot_([2,2,1],sino_amyl.as_array()[0,60,:,:],'Amyloid')\n",
    "subplot_([2,2,2],sino_amyl_noisy.as_array()[0,60,:,:],'Noisy amyloid')\n",
    "subplot_([2,2,3],sino_amyl_misaligned.as_array()[0,60,:,:],'Amyloid resampled')\n",
    "subplot_([2,2,4],sino_amyl_noisy_misaligned.as_array()[0,60,:,:],'Noisy resampled amyloid')"
   ]
  }
 ],
 "metadata": {
  "kernelspec": {
   "display_name": "Python 3",
   "language": "python",
   "name": "python3"
  },
  "language_info": {
   "codemirror_mode": {
    "name": "ipython"
   },
   "file_extension": ".py",
   "mimetype": "text/x-python",
   "name": "python",
   "nbconvert_exporter": "python"
  }
 },
 "nbformat": 4,
 "nbformat_minor": 2
}

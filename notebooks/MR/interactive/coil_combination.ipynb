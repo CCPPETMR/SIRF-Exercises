{
 "cells": [
  {
   "cell_type": "code",
   "execution_count": null,
   "metadata": {},
   "outputs": [],
   "source": [
    "# -*- coding: utf-8 -*-\n",
    "###\n",
    "# Demonstration of MR reconstruction with CCP PET-MR Software\n",
    "#\n",
    "# This demonstration shows how to reconstruct MR images on a coil-by-coil basis\n",
    "# and how to combine the image information from the different receiver coils\n",
    "#\n",
    "# This demo is a 'script', i.e. intended to be run step by step in a\n",
    "# Python IDE such as spyder. It is organised in 'cells'. spyder displays these\n",
    "# cells nicely and allows you to run each cell on its own.\n",
    "#\n",
    "# First version: 27th of May 2017\n",
    "# Author: Christoph Kolbitsch\n",
    "#\n",
    "\n",
    "## CCP PETMR Synergistic Image Reconstruction Framework (SIRF).\n",
    "## Copyright 2015 - 2017 Rutherford Appleton Laboratory STFC.\n",
    "## Copyright 2015 - 2017 University College London.\n",
    "## Copyright 2015 - 2017 Physikalisch-Technische Bundesanstalt.\n",
    "##\n",
    "## This is software developed for the Collaborative Computational\n",
    "## Project in Positron Emission Tomography and Magnetic Resonance imaging\n",
    "## (http://www.ccppetmr.ac.uk/).\n",
    "##\n",
    "## Licensed under the Apache License, Version 2.0 (the \"License\");\n",
    "##   you may not use this file except in compliance with the License.\n",
    "##   You may obtain a copy of the License at\n",
    "##       http://www.apache.org/licenses/LICENSE-2.0\n",
    "##   Unless required by applicable law or agreed to in writing, software\n",
    "##   distributed under the License is distributed on an \"AS IS\" BASIS,\n",
    "##   WITHOUT WARRANTIES OR CONDITIONS OF ANY KIND, either express or implied.\n",
    "##   See the License for the specific language governing permissions and\n",
    "##   limitations under the License.\n",
    "\n",
    "__version__ = '0.1.0'\n",
    "\n",
    "# import engine module\n",
    "import pGadgetron as pMR\n",
    "\n",
    "# import further modules\n",
    "import os, numpy\n",
    "%matplotlib\n",
    "import matplotlib.pyplot as plt\n",
    "\n"
   ]
  },
  {
   "cell_type": "code",
   "execution_count": null,
   "metadata": {},
   "outputs": [],
   "source": [
    "#%% GO TO MR FOLDER\n",
    "os.chdir(pMR.petmr_data_path('mr'))\n",
    "\n"
   ]
  },
  {
   "cell_type": "code",
   "execution_count": null,
   "metadata": {},
   "outputs": [],
   "source": [
    "#%% LOAD AND PREPROCESS RAW MR DATA\n",
    "acq_data = pMR.AcquisitionData('simulated_MR_2D_cartesian.h5')\n",
    "preprocessed_data = pMR.preprocess_acquisition_data(acq_data)\n",
    "\n",
    "\n"
   ]
  },
  {
   "cell_type": "code",
   "execution_count": null,
   "metadata": {},
   "outputs": [],
   "source": [
    "#%% CHECK IF K-SPACE DATA IS SORTED\n",
    "print('Is k-space data sorted? %s' % preprocessed_data.is_sorted())\n",
    "\n",
    "\n"
   ]
  },
  {
   "cell_type": "code",
   "execution_count": null,
   "metadata": {},
   "outputs": [],
   "source": [
    "#%% SORT K-SPACE DATA\n",
    "preprocessed_data.sort()\n",
    "print('Is k-space data sorted? %s' % preprocessed_data.is_sorted())\n",
    "\n",
    "\n"
   ]
  },
  {
   "cell_type": "code",
   "execution_count": null,
   "metadata": {},
   "outputs": [],
   "source": [
    "#%% RETRIEVE K-SPACE DATA\n",
    "k_array = preprocessed_data.as_array()\n",
    "print('Size of k-space %dx%dx%d' % k_array.shape)\n",
    "\n",
    "\n"
   ]
  },
  {
   "cell_type": "code",
   "execution_count": null,
   "metadata": {},
   "outputs": [],
   "source": [
    "#%% SELECT FIRST REPETITION AND VIEW DATA\n",
    "k_array = k_array[0:256,:,:]\n",
    "print('Size of k-space %dx%dx%d' % k_array.shape)\n",
    "\n",
    "plt.close()\n",
    "fig = plt.figure(1)\n",
    "plt.set_cmap('gray')\n",
    "for c in range(k_array.shape[1]):\n",
    "    ax = fig.add_subplot(2,4,c+1)\n",
    "    ax.imshow(abs(k_array[:,c,:]), vmin=0, vmax=1)\n",
    "    ax.set_title('Coil '+str(c+1))\n",
    "    ax.axis('off')\n",
    "\n",
    "\n"
   ]
  },
  {
   "cell_type": "code",
   "execution_count": null,
   "metadata": {},
   "outputs": [],
   "source": [
    "#%% APPLY INVERSE FFT TO EACH COIL AND VIEW IMAGES\n",
    "image_array = numpy.zeros(k_array.shape, numpy.complex128)\n",
    "for c in range(k_array.shape[1]):\n",
    "    image_array[:,c,:] = numpy.fft.fftshift(numpy.fft.ifft2(numpy.fft.ifftshift(k_array[:,c,:])))\n",
    "image_array = image_array/image_array.max()\n",
    "   \n",
    "fig = plt.figure(2)   \n",
    "plt.set_cmap('gray')\n",
    "for c in range(image_array.shape[1]):\n",
    "    ax = fig.add_subplot(2,4,c+1)\n",
    "    ax.imshow(abs(image_array[:,c,:]), vmin=0, vmax=0.4)\n",
    "    ax.set_title('Coil '+str(c+1))\n",
    "    ax.axis('off')\n",
    "    \n",
    "    \n"
   ]
  },
  {
   "cell_type": "code",
   "execution_count": null,
   "metadata": {},
   "outputs": [],
   "source": [
    "#%% COMBINE COIL IMAGES USING SOS\n",
    "image_array_sos = abs(numpy.sqrt(numpy.sum(numpy.square(image_array),1)))    \n",
    "image_array_sos = image_array_sos/image_array_sos.max()\n",
    "\n",
    "fig = plt.figure(3)\n",
    "plt.set_cmap('gray')\n",
    "plt.imshow(image_array_sos, vmin=0, vmax=0.7)\n",
    "plt.title('Combined image using sum-of-squares') \n",
    "\n",
    "\n"
   ]
  },
  {
   "cell_type": "code",
   "execution_count": null,
   "metadata": {},
   "outputs": [],
   "source": [
    "#%% CALCULATE COIL SENSITIVITIES\n",
    "csm = pMR.CoilSensitivityData()\n",
    "csm.smoothness = 4\n",
    "csm.calculate(preprocessed_data)\n",
    "csm_array = numpy.squeeze(csm.as_array(0))\n",
    "\n",
    "# csm_array has orientation [coil, im_x, im_y]\n",
    "csm_array = csm_array.transpose([1,0,2])\n",
    "\n",
    "fig = plt.figure(4)\n",
    "plt.set_cmap('jet')\n",
    "for c in range(csm_array.shape[1]):\n",
    "    ax = fig.add_subplot(2,4,c+1)\n",
    "    ax.imshow(abs(csm_array[:,c,:]))\n",
    "    ax.set_title('Coil '+str(c+1))\n",
    "    ax.axis('off')\n",
    "\n",
    "\n"
   ]
  },
  {
   "cell_type": "code",
   "execution_count": null,
   "metadata": {},
   "outputs": [],
   "source": [
    "#%% COMBINE COIL IMAGES USING WEIGHTED SUM\n",
    "image_array_ws = numpy.sum(numpy.multiply(image_array, numpy.conj(csm_array)),1)\n",
    "image_array_ws = abs(numpy.divide(image_array_ws, numpy.sum(numpy.multiply(csm_array, numpy.conj(csm_array)),1)))\n",
    "image_array_ws = image_array_ws/image_array_ws.max()\n",
    "\n",
    "fig = plt.figure(5, figsize=[12, 4])\n",
    "plt.set_cmap('gray')\n",
    "\n",
    "ax = fig.add_subplot(1,3,1)\n",
    "ax.imshow(image_array_sos, vmin=0, vmax=0.7)\n",
    "ax.set_title('Sum-of-squares (SOS)')\n",
    "ax.axis('off')\n",
    "\n",
    "ax = fig.add_subplot(1,3,2)\n",
    "ax.imshow(image_array_ws, vmin=0, vmax=0.7)\n",
    "ax.set_title('Weighted sum (WS)')\n",
    "ax.axis('off')\n",
    "\n",
    "ax = fig.add_subplot(1,3,3)\n",
    "ax.imshow(abs(image_array_sos-image_array_ws), vmin=-0, vmax=0.1)\n",
    "ax.set_title('SOS - WS')\n",
    "ax.axis('off')\n",
    "\n",
    "\n",
    "\n"
   ]
  },
  {
   "cell_type": "code",
   "execution_count": null,
   "metadata": {},
   "outputs": [],
   "source": [
    "plt.close('all')"
   ]
  },
  {
   "cell_type": "code",
   "execution_count": null,
   "metadata": {},
   "outputs": [],
   "source": []
  }
 ],
 "metadata": {
  "kernelspec": {
   "display_name": "Python 2",
   "language": "python",
   "name": "python2"
  },
  "language_info": {
   "codemirror_mode": {
    "name": "ipython",
    "version": 2
   },
   "file_extension": ".py",
   "mimetype": "text/x-python",
   "name": "python",
   "nbconvert_exporter": "python",
   "pygments_lexer": "ipython2",
   "version": "2.7.12"
  }
 },
 "nbformat": 4,
 "nbformat_minor": 1
}

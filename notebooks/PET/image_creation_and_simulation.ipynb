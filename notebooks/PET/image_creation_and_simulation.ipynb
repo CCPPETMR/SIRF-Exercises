{
 "cells": [
  {
   "cell_type": "markdown",
   "metadata": {},
   "source": [
    "# Creating images using shapes and simple simulation with attenuation\n",
    "This exercise shows how to create images via geometric shapes. It then uses forward projection without\n",
    "and with attenuation.\n",
    "\n",
    "It is recommended you complete the [Introductory](../Introductory) notebooks first (or alternatively the [display_and_projection.ipynb](display_and_projection.ipynb)). There is some overlap with [acquisition_model_mr_pet_ct.ipynb](../Introductory/acquisition_model_mr_pet_ct.ipynb), but here we use some geometric shapes to create an image and add attenuation etc."
   ]
  },
  {
   "cell_type": "markdown",
   "metadata": {},
   "source": [
    "Authors: Kris Thielemans and Evgueni Ovtchinnikov  \n",
    "First version: 8th of September 2016  \n",
    "Second Version: 17th of May 2018\n",
    "\n",
    "CCP SyneRBI Synergistic Image Reconstruction Framework (SIRF).  \n",
    "Copyright 2015 - 2017 Rutherford Appleton Laboratory STFC.  \n",
    "Copyright 2015 - 2018 University College London.\n",
    "\n",
    "This is software developed for the Collaborative Computational\n",
    "Project in Synergistic Reconstruction for Biomedical Imaging\n",
    "(http://www.ccpsynerbi.ac.uk/).\n",
    "\n",
    "Licensed under the Apache License, Version 2.0 (the \"License\");\n",
    "you may not use this file except in compliance with the License.\n",
    "You may obtain a copy of the License at\n",
    "    http://www.apache.org/licenses/LICENSE-2.0\n",
    "Unless required by applicable law or agreed to in writing, software\n",
    "distributed under the License is distributed on an \"AS IS\" BASIS,\n",
    "WITHOUT WARRANTIES OR CONDITIONS OF ANY KIND, either express or implied.\n",
    "See the License for the specific language governing permissions and\n",
    "limitations under the License."
   ]
  },
  {
   "cell_type": "markdown",
   "metadata": {},
   "source": [
    "# Initial set-up"
   ]
  },
  {
   "cell_type": "code",
   "execution_count": null,
   "metadata": {},
   "outputs": [],
   "source": [
    "#%% make sure figures appears inline and animations works\n",
    "%matplotlib notebook"
   ]
  },
  {
   "cell_type": "code",
   "execution_count": null,
   "metadata": {},
   "outputs": [],
   "source": [
    "import notebook_setup\n",
    "\n",
    "#%% Initial imports etc\n",
    "import numpy\n",
    "from numpy.linalg import norm\n",
    "import matplotlib.pyplot as plt\n",
    "import matplotlib.animation as animation\n",
    "import os\n",
    "import sys\n",
    "import shutil"
   ]
  },
  {
   "cell_type": "code",
   "execution_count": null,
   "metadata": {},
   "outputs": [],
   "source": [
    "#%% Use the 'pet' prefix for all SIRF functions\n",
    "# This is done here to explicitly differentiate between SIRF pet functions and \n",
    "# anything else.\n",
    "import sirf.STIR as pet\n",
    "from sirf.Utilities import show_2D_array, show_3D_array, examples_data_path\n",
    "from sirf_exercises import exercises_data_path"
   ]
  },
  {
   "cell_type": "code",
   "execution_count": null,
   "metadata": {},
   "outputs": [],
   "source": [
    "#%% Go to directory with input files\n",
    "# Adapt this path to your situation (or start everything in the relevant directory)\n",
    "os.chdir(exercises_data_path('PET'))\n",
    "# Copy files to a working folder and change directory to where these files are.\n",
    "# We do this to avoid cluttering your SIRF files. This way, you can delete \n",
    "# working_folder and start from scratch.\n",
    "shutil.rmtree('working_folder/brain',True)\n",
    "shutil.copytree(os.path.join(examples_data_path('PET'), 'brain'),'working_folder/brain')\n",
    "os.chdir('working_folder/brain')"
   ]
  },
  {
   "cell_type": "markdown",
   "metadata": {},
   "source": [
    "# Creation of images"
   ]
  },
  {
   "cell_type": "code",
   "execution_count": null,
   "metadata": {},
   "outputs": [],
   "source": [
    "#%% Read in image\n",
    "# We will use an image provided with the demo to have correct voxel-sizes etc\n",
    "image = pet.ImageData('emission.hv')\n",
    "print(image.dimensions())\n",
    "print(image.voxel_sizes())"
   ]
  },
  {
   "cell_type": "code",
   "execution_count": null,
   "metadata": {},
   "outputs": [],
   "source": [
    "#%% create a shape\n",
    "shape = pet.EllipticCylinder()\n",
    "# define its size (in mm)\n",
    "shape.set_length(50)\n",
    "shape.set_radii((40, 30))\n",
    "# centre of shape in (x,y,z) coordinates where (0,0,0) is centre of first plane\n",
    "shape.set_origin((20, -30, 60))"
   ]
  },
  {
   "cell_type": "code",
   "execution_count": null,
   "metadata": {},
   "outputs": [],
   "source": [
    "#%% add the shape to the image\n",
    "# first set the image values to 0\n",
    "image.fill(0)\n",
    "image.add_shape(shape, scale=1)"
   ]
  },
  {
   "cell_type": "code",
   "execution_count": null,
   "metadata": {},
   "outputs": [],
   "source": [
    "#%% add same shape at different location and with different intensity\n",
    "shape.set_origin((40, -30, -60))\n",
    "image.add_shape(shape, scale=0.75)"
   ]
  },
  {
   "cell_type": "code",
   "execution_count": null,
   "metadata": {},
   "outputs": [],
   "source": [
    "#%% show the phantom image as a sequence of transverse images\n",
    "show_3D_array(image.as_array());"
   ]
  },
  {
   "cell_type": "markdown",
   "metadata": {},
   "source": [
    "# Simple simulation\n",
    "Let's first do simple ray-tracing without attenuation"
   ]
  },
  {
   "cell_type": "code",
   "execution_count": null,
   "metadata": {},
   "outputs": [],
   "source": [
    "#%% Create a SIRF acquisition model\n",
    "acq_model = pet.AcquisitionModelUsingRayTracingMatrix()\n",
    "# Specify sinogram dimensions via the template\n",
    "template = pet.AcquisitionData('template_sinogram.hs')\n",
    "# Now set-up our acquisition model with all information that it needs about the data and image.\n",
    "acq_model.set_up(template,image); "
   ]
  },
  {
   "cell_type": "code",
   "execution_count": null,
   "metadata": {},
   "outputs": [],
   "source": [
    "#%% forward project this image and display all sinograms\n",
    "acquired_data_no_attn = acq_model.forward(image)\n",
    "acquired_data_no_attn_array = acquired_data_no_attn.as_array()[0,:,:,:]\n",
    "show_3D_array(acquired_data_no_attn_array);"
   ]
  },
  {
   "cell_type": "code",
   "execution_count": null,
   "metadata": {},
   "outputs": [],
   "source": [
    "#%% Show every 8th view \n",
    "# Doing this here with a complicated one-liner...\n",
    "show_3D_array(\n",
    "    acquired_data_no_attn_array[:,0:acquired_data_no_attn_array.shape[1]:8,:].transpose(1,0,2),\n",
    "    show=False)\n",
    "# You could now of course try the animation of the previous demo..."
   ]
  },
  {
   "cell_type": "markdown",
   "metadata": {},
   "source": [
    "# Adding attenuation\n",
    "Attenuation in PET follows the Lambert-Beer law:\n",
    "\n",
    "$$\\exp\\left\\{-\\int\\mu(x) dx\\right\\},$$\n",
    "\n",
    "with $\\mu(x)$ the linear attenuation coefficients (roughly proportional to density), \n",
    "and the line integral being performed between the 2 detectors.\n",
    "\n",
    "In SIRF, we model this via an `AcquisitionSensitivityModel` object. The rationale for the name is that attenuation reduces the sensitivity of the detector-pair."
   ]
  },
  {
   "cell_type": "code",
   "execution_count": null,
   "metadata": {},
   "outputs": [],
   "source": [
    "#%% create an attenuation image\n",
    "# we will use the \"emission\" image as a template for sizes (although xy size doesn't have to be identical)\n",
    "attn_image = image.get_uniform_copy(0)\n",
    "#%% create a shape for a uniform cylinder in the centre\n",
    "shape = pet.EllipticCylinder()\n",
    "shape.set_length(150)\n",
    "shape.set_radii((60, 60))\n",
    "shape.set_origin((0, 0, 40))\n",
    "# add it to the attenuation image with mu=-.096 cm^-1 (i.e. water)\n",
    "attn_image.add_shape(shape, scale=0.096)"
   ]
  },
  {
   "cell_type": "code",
   "execution_count": null,
   "metadata": {},
   "outputs": [],
   "source": [
    "#%% show the phantom image as a sequence of transverse images\n",
    "show_3D_array(attn_image.as_array());"
   ]
  },
  {
   "cell_type": "code",
   "execution_count": null,
   "metadata": {},
   "outputs": [],
   "source": [
    "#%% Create the acquisition sensitivity model\n",
    "# First create the ray-tracer\n",
    "acq_model_for_attn = pet.AcquisitionModelUsingRayTracingMatrix()\n",
    "# Now create the attenuation model\n",
    "asm_attn = pet.AcquisitionSensitivityModel(attn_image, acq_model_for_attn)"
   ]
  },
  {
   "cell_type": "code",
   "execution_count": null,
   "metadata": {},
   "outputs": [],
   "source": [
    "attn_image.as_array().max()"
   ]
  },
  {
   "cell_type": "code",
   "execution_count": null,
   "metadata": {},
   "outputs": [],
   "source": [
    "# Use this to find the 'detection efficiencies' as sinograms\n",
    "asm_attn.set_up(template)\n",
    "attn_factors = asm_attn.forward(template.get_uniform_copy(1))\n",
    "# We will store these directly as an `AcquisitionSensitivityModel`, \n",
    "# such that we don't have to redo the line integrals\n",
    "asm_attn = pet.AcquisitionSensitivityModel(attn_factors)"
   ]
  },
  {
   "cell_type": "code",
   "execution_count": null,
   "metadata": {},
   "outputs": [],
   "source": [
    "#%% check a single sinogram (they are all the same of course)\n",
    "show_2D_array('Attenuation factor sinogram', attn_factors.as_array()[0,5,:,:]);"
   ]
  },
  {
   "cell_type": "code",
   "execution_count": null,
   "metadata": {},
   "outputs": [],
   "source": [
    "#%% check a profile (they are also all the same as the object is a cylinder in the centre)\n",
    "plt.figure()\n",
    "plt.plot(attn_factors.as_array()[0,5,0,:]);"
   ]
  },
  {
   "cell_type": "code",
   "execution_count": null,
   "metadata": {},
   "outputs": [],
   "source": [
    "#%% Create a SIRF acquisition model\n",
    "# start with ray-tracing\n",
    "acq_model_with_attn = pet.AcquisitionModelUsingRayTracingMatrix()\n",
    "# add the 'sensitivity'\n",
    "acq_model_with_attn.set_acquisition_sensitivity(asm_attn)\n",
    "# set-up\n",
    "acq_model_with_attn.set_up(template,attn_image);"
   ]
  },
  {
   "cell_type": "code",
   "execution_count": null,
   "metadata": {},
   "outputs": [],
   "source": [
    "#%% forward project the original image, now including attenuation modelling, and display all sinograms\n",
    "acquired_data_with_attn = acq_model_with_attn.forward(image)\n",
    "acquired_data_with_attn_array = acquired_data_with_attn.as_array()[0,:,:,:]\n",
    "show_3D_array(acquired_data_with_attn_array);"
   ]
  },
  {
   "cell_type": "code",
   "execution_count": null,
   "metadata": {},
   "outputs": [],
   "source": [
    "#%% Plot some profiles\n",
    "slice = 40\n",
    "plt.figure()\n",
    "profile_no_attn = acquired_data_no_attn_array[5,slice,:]\n",
    "profile_with_attn = acquired_data_with_attn_array[5,slice,:]\n",
    "profile_attn_factors = attn_factors.as_array()[0,5,slice,:]\n",
    "\n",
    "plt.plot(profile_no_attn,label='no atten')\n",
    "plt.plot(profile_with_attn,label='with atten')\n",
    "plt.plot(profile_no_attn * profile_attn_factors,'bo',label='check')\n",
    "plt.legend();"
   ]
  },
  {
   "cell_type": "markdown",
   "metadata": {},
   "source": [
    "# Further things to try\n",
    "- Back project the data with and without attenuation\n",
    "- Add noise to the data before backprojection  (not so easy unfortunately. Adding noise is done in the [ML_reconstruction](ML_reconstruction.ipynb) exercise).\n",
    "Hint: use `acquired_data.clone()` to create a copy, `numpy.random.poisson`, and `acquired_data.fill()`.\n",
    "- Add an additive background to the model. Check if it modifies the forward projection (it should!) and the back-projection?    \n",
    "Hint: read the help for `AcquisitionModel`. Create a simple background by using `AcquisitionData.get_uniform_copy`."
   ]
  },
  {
   "cell_type": "code",
   "execution_count": null,
   "metadata": {},
   "outputs": [],
   "source": [
    "help(pet.AcquisitionModel)"
   ]
  },
  {
   "cell_type": "code",
   "execution_count": null,
   "metadata": {},
   "outputs": [],
   "source": [
    "help(pet.AcquisitionData.get_uniform_copy)"
   ]
  }
 ],
 "metadata": {
  "kernelspec": {
   "display_name": "Python 3",
   "language": "python",
   "name": "python3"
  },
  "language_info": {
   "codemirror_mode": {
    "name": "ipython"
   },
   "file_extension": ".py",
   "mimetype": "text/x-python",
   "name": "python",
   "nbconvert_exporter": "python"
  }
 },
 "nbformat": 4,
 "nbformat_minor": 2
}

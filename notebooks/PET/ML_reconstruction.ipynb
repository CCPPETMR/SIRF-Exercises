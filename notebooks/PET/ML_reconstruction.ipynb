{
 "cells": [
  {
   "cell_type": "markdown",
   "metadata": {},
   "source": [
    "\n",
    "# Demonstration of PET reconstruction with SIRF\n",
    "This demonstration shows how to use OSEM and implement a\n",
    "(simplistic) gradient-ascent algorithm using SIRF.\n"
   ]
  },
  {
   "cell_type": "markdown",
   "metadata": {},
   "source": [
    "Authors: Kris Thielemans and Evgueni Ovtchinnikov  \n",
    "First version: 8th of September 2016  \n",
    "Second Version: 17th of May 2018\n",
    "\n",
    "CCP PETMR Synergistic Image Reconstruction Framework (SIRF)  \n",
    "Copyright 2015 - 2017 Rutherford Appleton Laboratory STFC  \n",
    "Copyright 2015 - 2018 University College London.\n",
    "\n",
    "This is software developed for the Collaborative Computational\n",
    "Project in Positron Emission Tomography and Magnetic Resonance imaging\n",
    "(http://www.ccppetmr.ac.uk/).\n",
    "\n",
    "Licensed under the Apache License, Version 2.0 (the \"License\");\n",
    "you may not use this file except in compliance with the License.\n",
    "You may obtain a copy of the License at\n",
    "    http://www.apache.org/licenses/LICENSE-2.0\n",
    "Unless required by applicable law or agreed to in writing, software\n",
    "distributed under the License is distributed on an \"AS IS\" BASIS,\n",
    "WITHOUT WARRANTIES OR CONDITIONS OF ANY KIND, either express or implied.\n",
    "See the License for the specific language governing permissions and\n",
    "limitations under the License."
   ]
  },
  {
   "cell_type": "markdown",
   "metadata": {},
   "source": [
    "# Initial set-up"
   ]
  },
  {
   "cell_type": "code",
   "execution_count": null,
   "metadata": {},
   "outputs": [],
   "source": [
    "#%% make sure figures appears inline and animations works\n",
    "%matplotlib notebook"
   ]
  },
  {
   "cell_type": "code",
   "execution_count": null,
   "metadata": {},
   "outputs": [],
   "source": [
    "#%% Initial imports etc\n",
    "import numpy\n",
    "from numpy.linalg import norm\n",
    "import matplotlib.pyplot as plt\n",
    "import matplotlib.animation as animation\n",
    "import os\n",
    "import sys\n",
    "import shutil\n",
    "#import scipy\n",
    "#from scipy import optimize\n",
    "import sirf.STIR as pet\n",
    "from sirf.Utilities import examples_data_path\n",
    "from sirf_exercises import exercises_data_path"
   ]
  },
  {
   "cell_type": "code",
   "execution_count": null,
   "metadata": {},
   "outputs": [],
   "source": [
    "#%% some handy function definitions\n",
    "def imshow(image, limits, title=''):\n",
    "    \"\"\"Usage: imshow(image, [min,max], title)\"\"\"\n",
    "    plt.title(title)\n",
    "    bitmap = plt.imshow(image)\n",
    "    if len(limits)==0:\n",
    "        limits = [image.min(), image.max()]\n",
    "\n",
    "    plt.clim(limits[0], limits[1])\n",
    "    plt.colorbar(shrink=.6)\n",
    "    plt.axis('off')\n",
    "    return bitmap\n",
    "\n",
    "def make_positive(image_array):\n",
    "    \"\"\"truncate any negatives to zero\"\"\"\n",
    "    image_array[image_array<0] = 0\n",
    "    return image_array\n",
    "\n",
    "def make_cylindrical_FOV(image):\n",
    "    \"\"\"truncate to cylindrical FOV\"\"\"\n",
    "    filter = pet.TruncateToCylinderProcessor()\n",
    "    filter.apply(image)"
   ]
  },
  {
   "cell_type": "code",
   "execution_count": null,
   "metadata": {},
   "outputs": [],
   "source": [
    "#%% go to directory with input files\n",
    "# adapt this path to your situation (or start everything in the relevant directory)\n",
    "os.chdir(exercises_data_path('PET'))"
   ]
  },
  {
   "cell_type": "code",
   "execution_count": null,
   "metadata": {},
   "outputs": [],
   "source": [
    "#%% copy files to working folder and change directory to where the output files are\n",
    "shutil.rmtree('working_folder/thorax_single_slice',True)\n",
    "shutil.copytree('thorax_single_slice','working_folder/thorax_single_slice')\n",
    "os.chdir('working_folder/thorax_single_slice')"
   ]
  },
  {
   "cell_type": "markdown",
   "metadata": {},
   "source": [
    "## We will first create some simulated data from ground-truth images\n",
    "\n"
   ]
  },
  {
   "cell_type": "code",
   "execution_count": null,
   "metadata": {},
   "outputs": [],
   "source": [
    "#%% Read in images\n",
    "image = pet.ImageData('emission.hv')\n",
    "image_array = image.as_array()*.05\n",
    "image.fill(image_array)\n",
    "mu_map = pet.ImageData('attenuation.hv')\n",
    "mu_map_array = mu_map.as_array()"
   ]
  },
  {
   "cell_type": "code",
   "execution_count": null,
   "metadata": {},
   "outputs": [],
   "source": [
    "#%% bitmap display of images\n",
    "im_slice = image_array.shape[0]//2\n",
    "plt.figure()\n",
    "#plt.subplot(1,2,1)\n",
    "imshow(image_array[im_slice,:,:,], [], 'emission image')\n",
    "#plt.subplot(1,2,2)\n",
    "#imshow(mu_map_array[im_slice,:,:,], [], 'attenuation image');"
   ]
  },
  {
   "cell_type": "code",
   "execution_count": null,
   "metadata": {},
   "outputs": [],
   "source": [
    "#%% save max for future displays\n",
    "cmax = image_array.max()*.6"
   ]
  },
  {
   "cell_type": "code",
   "execution_count": null,
   "metadata": {},
   "outputs": [],
   "source": [
    "#%% create acquisition model\n",
    "am = pet.AcquisitionModelUsingRayTracingMatrix()\n",
    "# we will increate the number of rays used for every Line-of-Response (LOR) as an example\n",
    "# (it is not required for the exercise of course)\n",
    "am.set_num_tangential_LORs(5)\n",
    "templ = pet.AcquisitionData('template_sinogram.hs')\n",
    "am.set_up(templ,image);"
   ]
  },
  {
   "cell_type": "code",
   "execution_count": null,
   "metadata": {},
   "outputs": [],
   "source": [
    "#%% simulate some data using forward projection\n",
    "acquired_data=am.forward(image)\n",
    "acquisition_array = acquired_data.as_array()"
   ]
  },
  {
   "cell_type": "code",
   "execution_count": null,
   "metadata": {},
   "outputs": [],
   "source": [
    "#%% Display bitmaps of a middle sinogram\n",
    "plt.figure()\n",
    "imshow(acquisition_array[0,0,:,:,], [], 'Forward projection');"
   ]
  },
  {
   "cell_type": "markdown",
   "metadata": {},
   "source": [
    "# Reconstruction via a SIRF reconstruction class\n",
    "While you can write your own reconstruction algorithm by using `AcquisitionModel` etc, we also\n",
    "provide a few reconstruction clases. We will show how to use these here."
   ]
  },
  {
   "cell_type": "markdown",
   "metadata": {},
   "source": [
    "## create the objective function\n",
    "\n",
    "In PET, the iterative algorithms in SIRF rely on an objective function (i.e. the function to maximise).\n",
    "In this case, this is the Poisson log-likelihood (without any priors)"
   ]
  },
  {
   "cell_type": "code",
   "execution_count": null,
   "metadata": {},
   "outputs": [],
   "source": [
    "#%% create objective function\n",
    "obj_fun = pet.make_Poisson_loglikelihood(acquired_data)\n",
    "# We could set acquisition model but the default (ray-tracing) is in this case ok\n",
    "# obj_fun.set_acquisition_model(am)\n",
    "# we could also add a prior, but we will not do that here (although the rest of the exercise would still work)\n",
    "#obj_fun.set_prior(prior)"
   ]
  },
  {
   "cell_type": "markdown",
   "metadata": {},
   "source": [
    "## create OSMAPOSL reconstructor\n",
    "This implements the Ordered Subsets Maximum A-Posteriori One Step Late\n",
    "Since we are not using a penalty, or prior in this example, it\n",
    "defaults to using MLEM, but we will modify it to OSEM"
   ]
  },
  {
   "cell_type": "code",
   "execution_count": null,
   "metadata": {},
   "outputs": [],
   "source": [
    "recon = pet.OSMAPOSLReconstructor()\n",
    "recon.set_objective_function(obj_fun)\n",
    "recon.set_num_subsets(4)\n",
    "num_subiters=10\n",
    "recon.set_num_subiterations(num_subiters)"
   ]
  },
  {
   "cell_type": "markdown",
   "metadata": {},
   "source": [
    "## Use this reconstructor!"
   ]
  },
  {
   "cell_type": "code",
   "execution_count": null,
   "metadata": {},
   "outputs": [],
   "source": [
    "#%%  create initial image\n",
    "# we could just use a uniform image but here we will create a disk with a different\n",
    "# initial value (this will help the display later on)\n",
    "init_image=image.get_uniform_copy(cmax / 4)\n",
    "make_cylindrical_FOV(init_image)\n",
    "# display\n",
    "idata = init_image.as_array()\n",
    "im_slice = idata.shape[0] // 2\n",
    "plt.figure()\n",
    "imshow(idata[im_slice,:,:],[0,cmax], 'initial image');"
   ]
  },
  {
   "cell_type": "code",
   "execution_count": null,
   "metadata": {},
   "outputs": [],
   "source": [
    "#%% reconstruct the image \n",
    "reconstructed_image = init_image.clone()\n",
    "# set up the reconstructor\n",
    "recon.set_up(reconstructed_image)\n",
    "# do actual recon\n",
    "recon.reconstruct(reconstructed_image)"
   ]
  },
  {
   "cell_type": "code",
   "execution_count": null,
   "metadata": {},
   "outputs": [],
   "source": [
    "#%% bitmap display of images\n",
    "reconstructed_array = reconstructed_image.as_array()\n",
    "\n",
    "plt.figure(figsize=(9, 4))\n",
    "plt.subplot(1,2,1)\n",
    "imshow(image_array[im_slice,:,:,], [0,cmax*1.2],'emission image')\n",
    "plt.subplot(1,2,2)\n",
    "imshow(reconstructed_array[im_slice,:,:,], [0,cmax*1.2], 'reconstructed image')\n",
    "plt.tight_layout();"
   ]
  },
  {
   "cell_type": "markdown",
   "metadata": {},
   "source": [
    "\n",
    "## For illustration, we do the same with noise in the data"
   ]
  },
  {
   "cell_type": "code",
   "execution_count": null,
   "metadata": {},
   "outputs": [],
   "source": [
    "#%% Generate a noisy realisation of the data\n",
    "noisy_array=numpy.random.poisson(acquisition_array).astype('float64')\n",
    "print(' Maximum counts in the data: %d' % noisy_array.max())\n",
    "# stuff into a new AcquisitionData object\n",
    "noisy_data = acquired_data.clone()\n",
    "noisy_data.fill(noisy_array);"
   ]
  },
  {
   "cell_type": "code",
   "execution_count": null,
   "metadata": {},
   "outputs": [],
   "source": [
    "#%% Display bitmaps of the middle sinogram\n",
    "plt.figure(figsize=(9, 4))\n",
    "plt.subplot(1,2,1)\n",
    "imshow(acquisition_array[0,im_slice,:,:,], [0,acquisition_array.max()], 'original')\n",
    "plt.subplot(1,2,2)\n",
    "imshow(noisy_array[0,im_slice,:,:,], [0,acquisition_array.max()], 'noisy')\n",
    "plt.tight_layout();"
   ]
  },
  {
   "cell_type": "code",
   "execution_count": null,
   "metadata": {},
   "outputs": [],
   "source": [
    "#%% reconstruct the noisy data\n",
    "obj_fun.set_acquisition_data(noisy_data)\n",
    "# We could save the data to file if we wanted to, but currently we don't.\n",
    "# recon.set_output_filename_prefix('reconstructedImage_noisydata')\n",
    "\n",
    "noisy_reconstructed_image = init_image.clone()\n",
    "recon.reconstruct(noisy_reconstructed_image)"
   ]
  },
  {
   "cell_type": "code",
   "execution_count": null,
   "metadata": {},
   "outputs": [],
   "source": [
    "#%% bitmap display of images\n",
    "noisy_reconstructed_array = noisy_reconstructed_image.as_array()\n",
    "\n",
    "plt.figure(figsize=(9, 4))\n",
    "plt.subplot(1,2,1)\n",
    "imshow(reconstructed_array[im_slice,:,:,], [0,cmax*1.2], 'no noise')\n",
    "plt.subplot(1,2,2)\n",
    "imshow(noisy_reconstructed_array[im_slice,:,:,], [0,cmax*1.2], 'with noise')\n",
    "plt.tight_layout();"
   ]
  },
  {
   "cell_type": "markdown",
   "metadata": {},
   "source": [
    "# Taking control of the iteration process\n",
    "We will now show how to run each sub-iteration from in Python, as opposed to\n",
    "letting the reconstructor do all sub-iterations at once."
   ]
  },
  {
   "cell_type": "code",
   "execution_count": null,
   "metadata": {},
   "outputs": [],
   "source": [
    "#%% run same reconstruction but saving images and objective function values every sub-iteration\n",
    "num_subiters = 64\n",
    "# create an image object that will be updated during the iterations\n",
    "current_image = init_image.clone()\n",
    "# create an array to store the values of the objective function at every\n",
    "# sub-iteration (and fill in the first)\n",
    "osem_objective_function_values = [obj_fun.value(current_image)]\n",
    "# create an ndarray to store the images at every sub-iteration\n",
    "all_osem_images = numpy.ndarray(shape=(num_subiters + 1,) + idata.shape)\n",
    "all_osem_images[0,:,:,:] = current_image.as_array()\n",
    "# do the loop\n",
    "for i in range(1, num_subiters+1):\n",
    "    recon.update(current_image)\n",
    "    # store results\n",
    "    obj_fun_value = obj_fun.value(current_image)\n",
    "    osem_objective_function_values.append(obj_fun_value)\n",
    "    all_osem_images[i,:,:,:] =  current_image.as_array();"
   ]
  },
  {
   "cell_type": "markdown",
   "metadata": {},
   "source": [
    "## Make some plots with these results"
   ]
  },
  {
   "cell_type": "code",
   "execution_count": null,
   "metadata": {},
   "outputs": [],
   "source": [
    "#%% define a function for plotting images and the updates\n",
    "def plot_progress(all_images, title, subiterations = []):\n",
    "    if len(subiterations) == 0:\n",
    "        num_subiters = all_images[0].shape[0] - 1\n",
    "        subiterations = range(1, num_subiters + 1)\n",
    "    num_rows = len(all_images)\n",
    "    #plt.close('all')\n",
    "    for i in subiterations:\n",
    "        plt.figure()\n",
    "        for r in range(num_rows):\n",
    "            plt.subplot(num_rows,2,2 * r + 1)\n",
    "            imshow(all_images[r][i,im_slice,:,:], [0,cmax], '%s at %d' % (title[r], i))\n",
    "            plt.subplot(num_rows,2,2*r+2)\n",
    "            imshow(all_images[r][i,im_slice,:,:]-all_images[r][i - 1,im_slice,:,:],[-cmax*.1,cmax*.1], 'update')\n",
    "        #plt.pause(.05)\n",
    "        plt.show()"
   ]
  },
  {
   "cell_type": "code",
   "execution_count": null,
   "metadata": {},
   "outputs": [],
   "source": [
    "#%% now call this function to see how we went along\n",
    "# note that in the notebook interface, this might create a box with a vertical slider\n",
    "subiterations = (1,2,4,8,16,32,64)\n",
    "plot_progress([all_osem_images], ['OSEM'],subiterations)"
   ]
  },
  {
   "cell_type": "code",
   "execution_count": null,
   "metadata": {},
   "outputs": [],
   "source": [
    "#%% plot objective function values\n",
    "plt.figure()\n",
    "#plt.plot(subiterations, [ osem_objective_function_values[i] for i in subiterations])\n",
    "plt.plot(osem_objective_function_values)\n",
    "plt.title('Objective function values')\n",
    "plt.xlabel('sub-iterations');"
   ]
  },
  {
   "cell_type": "markdown",
   "metadata": {},
   "source": [
    "The above plot seems to indicate that (OS)EM converges to a stable value of the\n",
    "log-likelihood very quickly. However, as we've seen, the images are still changing.\n",
    "\n",
    "Convince yourself that the likelihood is still increasing (either by zooming into the figure, or by using `plt.ylim`)."
   ]
  },
  {
   "cell_type": "markdown",
   "metadata": {},
   "source": [
    "We can compute some simple ROI values as well. Let's plot those."
   ]
  },
  {
   "cell_type": "code",
   "execution_count": null,
   "metadata": {},
   "outputs": [],
   "source": [
    "#%% ROI\n",
    "ROI_lesion = all_osem_images[:,(im_slice,), 65:70, 40:45]\n",
    "ROI_lung = all_osem_images[:,(im_slice,), 75:80, 45:50]\n",
    "\n",
    "ROI_mean_lesion = ROI_lesion.mean(axis=(1,2,3))\n",
    "ROI_std_lesion = ROI_lesion.std(axis=(1,2,3))\n",
    "\n",
    "ROI_mean_lung = ROI_lung.mean(axis=(1,2,3))\n",
    "ROI_std_lung = ROI_lung.std(axis=(1,2,3))\n",
    "\n",
    "plt.figure()\n",
    "#plt.hold('on')\n",
    "plt.subplot(1,2,1)\n",
    "plt.plot(ROI_mean_lesion,'k',label='lesion')\n",
    "plt.plot(ROI_mean_lung,'r',label='lung')\n",
    "plt.legend()\n",
    "plt.title('ROI mean')\n",
    "plt.xlabel('sub-iterations')\n",
    "plt.subplot(1,2,2)\n",
    "plt.plot(ROI_std_lesion, 'k',label='lesion')\n",
    "plt.plot(ROI_std_lung, 'r',label='lung')\n",
    "plt.legend()\n",
    "plt.title('ROI standard deviation')\n",
    "plt.xlabel('sub-iterations');"
   ]
  },
  {
   "cell_type": "markdown",
   "metadata": {},
   "source": [
    "The above plots indicate that the log-likelihood is not a very sensitive\n",
    "measure of changes in the image. This an illustration that image reconstruction\n",
    "is an ill-conditioned inverse problem."
   ]
  },
  {
   "cell_type": "markdown",
   "metadata": {},
   "source": [
    "# Implement gradient ascent and compare with OSEM\n",
    "Here we will implement a simple version of Gradient Ascent using SIRF functions.We will use\n",
    "the SIRF capability to return the gradient of the objective function directly.\n",
    "\n",
    "Gradient ascent (GA) works by updating the image in the direction of the gradient\n",
    "\n",
    "    new_image = current_image + step_size * gradient\n",
    "\n",
    "Here we will use a fixed step-size and use \"truncation\" to enforce\n",
    "non-negativity of the image"
   ]
  },
  {
   "cell_type": "code",
   "execution_count": null,
   "metadata": {},
   "outputs": [],
   "source": [
    "#%% Define some variables to perform gradient ascent for a few (sub)iterations\n",
    "num_subiters = 32\n",
    "# relative step-size\n",
    "tau = .3\n",
    "\n",
    "# set initial image and store it\n",
    "# also store the value of the objective function for plotting\n",
    "current_image = init_image.clone()\n",
    "GA_objective_function_values = [obj_fun.value(current_image)]\n",
    "# create an array with all reconstruct images for plotting\n",
    "idata = current_image.as_array()\n",
    "all_images = numpy.ndarray(shape=(num_subiters + 1,) + idata.shape)\n",
    "all_images[0,:,:,:] =  idata;"
   ]
  },
  {
   "cell_type": "code",
   "execution_count": null,
   "metadata": {},
   "outputs": [],
   "source": [
    "#%% perform GA iterations\n",
    "# executing this cell might take a while\n",
    "for i in range(1, num_subiters+1):  \n",
    "    # obtain gradient for subset 0\n",
    "    # with current settings, this means we will only use the data of that subset\n",
    "    # (gradient ascent with subsets is too complicated for this demo)\n",
    "    grad = obj_fun.gradient(current_image, 0)\n",
    "    grad_array = grad.as_array()\n",
    "\n",
    "    # compute step-size as relative to current image-norm\n",
    "    step_size = tau * norm(idata) / norm(grad_array)\n",
    "\n",
    "    # perform gradient ascent step and truncate to positive values\n",
    "    idata = make_positive(idata + step_size*grad_array)\n",
    "    current_image.fill(idata)\n",
    "\n",
    "    # compute objective function value for plotting, and write some diagnostics\n",
    "    obj_fun_value = obj_fun.value(current_image)\n",
    "    GA_objective_function_values.append(obj_fun_value)\n",
    "    all_images[i,:,:,:] = idata;"
   ]
  },
  {
   "cell_type": "code",
   "execution_count": null,
   "metadata": {},
   "outputs": [],
   "source": [
    "#%% Plot objective function values\n",
    "plt.figure()\n",
    "#plt.hold('on')\n",
    "plt.title('Objective function value vs subiterations')\n",
    "plt.plot(GA_objective_function_values,'b')\n",
    "plt.plot(osem_objective_function_values,'r')\n",
    "plt.legend(('gradient ascent', 'OSEM'),loc='lower right');"
   ]
  },
  {
   "cell_type": "code",
   "execution_count": null,
   "metadata": {},
   "outputs": [],
   "source": [
    "#%% compare GA and OSEM images\n",
    "plot_progress([all_images, all_osem_images], ['GA' ,'OSEM'],[2,4,8,16,32])"
   ]
  },
  {
   "cell_type": "markdown",
   "metadata": {},
   "source": [
    "The above implementation used a fixed (relative) step-size. Experiment with different values for `tau` and see how that influences convergence.\n",
    "\n",
    "Steepest gradient ascent will include a line search to estimate the step size. There is a demo\n",
    "in the SIRF code on this. You can [find the code here as well](https://github.com/CCPPETMR/SIRF/blob/master/examples/Python/PET/steepest_ascent.py). You could implement this here."
   ]
  }
 ],
 "metadata": {
  "kernelspec": {
   "display_name": "Python 2",
   "language": "python",
   "name": "python2"
  },
  "language_info": {
   "codemirror_mode": {
    "name": "ipython"
   },
   "file_extension": ".py",
   "mimetype": "text/x-python",
   "name": "python",
   "nbconvert_exporter": "python"
  }
 },
 "nbformat": 4,
 "nbformat_minor": 2
}

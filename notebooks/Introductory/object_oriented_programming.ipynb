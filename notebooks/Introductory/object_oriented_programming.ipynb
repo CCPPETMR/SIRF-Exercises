{
 "cells": [
  {
   "cell_type": "markdown",
   "metadata": {
    "slideshow": {
     "slide_type": "slide"
    }
   },
   "source": [
    "# Introduction to object oriented programming (OOP)\n",
    "\n",
    "This is a notebook (independent of SIRF) that was used during a presentation given by Benjamin A. Thomas for CCP PETMR in 2017.\n",
    "Please watch the [recording](http://www.ccpsynerbi.ac.uk/sites/www.ccppetmr.ac.uk/files/Introduction_to_OOP_20170728.mp4) (note that the first 4 minutes are sound only, but screen sharing was then enabled). You can also download the corresponding [slides](http://www.ccpsynerbi.ac.uk/sites/www.ccppetmr.ac.uk/files/20170728_OOP_slides.pdf).\n",
    "\n",
    "Author: Benjamin A. Thomas<br />\n",
    "Copyright (C) 2017 University College London<br />\n",
    "SPDX-License-Identifier: Apache-2.0\n"
   ]
  },
  {
   "cell_type": "markdown",
   "metadata": {
    "slideshow": {
     "slide_type": "slide"
    }
   },
   "source": [
    "## Person\n",
    "\n",
    "```python\n",
    "class Person:\n",
    "   \n",
    "    # constructor\n",
    "    def __init__(self,firstname,surname,age,job,gender):\n",
    "        self.firstname = firstname\n",
    "        self.surname = surname\n",
    "        self.age = age\n",
    "        self.job = job\n",
    "        self.gender = gender\n",
    "        \n",
    "    def name(self):\n",
    "        return self.firstname + \" \" + self.surname\n",
    "```"
   ]
  },
  {
   "cell_type": "code",
   "execution_count": null,
   "metadata": {},
   "outputs": [],
   "source": [
    "class Person:\n",
    "   \n",
    "    # constructor\n",
    "    def __init__(self,firstname,surname,age,job,gender):\n",
    "        self.firstname = firstname\n",
    "        self.surname = surname\n",
    "        self.age = age\n",
    "        self.job = job\n",
    "        self.gender = gender\n",
    "        \n",
    "    def name(self):\n",
    "        return self.firstname + \" \" + self.surname"
   ]
  },
  {
   "cell_type": "code",
   "execution_count": null,
   "metadata": {},
   "outputs": [],
   "source": [
    "me = Person(\"Ben\", \"Thomas\", 33, \"PDRA\", \"male\")"
   ]
  },
  {
   "cell_type": "code",
   "execution_count": null,
   "metadata": {},
   "outputs": [],
   "source": [
    "print(me)"
   ]
  },
  {
   "cell_type": "code",
   "execution_count": null,
   "metadata": {},
   "outputs": [],
   "source": [
    "#show name and age\n",
    "print(me.age)\n",
    "print(me.name()) "
   ]
  },
  {
   "cell_type": "markdown",
   "metadata": {},
   "source": [
    "## Encapsulation\n",
    "\n",
    "```python\n",
    "class Person:\n",
    "   \n",
    "    # constructor\n",
    "    def __init__(self,firstname,surname,job,gender):\n",
    "        self.firstname = firstname\n",
    "        self.surname = surname\n",
    "        self.job = job\n",
    "        self.gender = gender\n",
    "        self.__age = -1\n",
    "    \n",
    "    def name(self):\n",
    "        return self.firstname + \" \" + self.surname\n",
    "    \n",
    "    def set_age(self,age):\n",
    "        self.__age = age\n",
    "        \n",
    "    def get_age(self):\n",
    "        return self.__age\n",
    "```"
   ]
  },
  {
   "cell_type": "code",
   "execution_count": null,
   "metadata": {},
   "outputs": [],
   "source": [
    "class Person:\n",
    "   \n",
    "    # constructor\n",
    "    def __init__(self,firstname,surname,job,gender):\n",
    "        self.firstname = firstname\n",
    "        self.surname = surname\n",
    "        self.job = job\n",
    "        self.gender = gender\n",
    "        self.__age = -1\n",
    "    \n",
    "    def name(self):\n",
    "        return self.firstname + \" \" + self.surname\n",
    "    \n",
    "    def set_age(self,age):\n",
    "        self.__age = age\n",
    "        \n",
    "    def get_age(self):\n",
    "        return self.__age"
   ]
  },
  {
   "cell_type": "code",
   "execution_count": null,
   "metadata": {},
   "outputs": [],
   "source": [
    "me = Person(\"Ben\", \"Thomas\", \"PDRA\", \"male\")"
   ]
  },
  {
   "cell_type": "code",
   "execution_count": null,
   "metadata": {},
   "outputs": [],
   "source": [
    "me.get_age()"
   ]
  },
  {
   "cell_type": "code",
   "execution_count": null,
   "metadata": {},
   "outputs": [],
   "source": [
    "me.set_age(33)\n",
    "me.get_age()"
   ]
  },
  {
   "cell_type": "code",
   "execution_count": null,
   "metadata": {},
   "outputs": [],
   "source": [
    "me.__age"
   ]
  },
  {
   "cell_type": "markdown",
   "metadata": {},
   "source": [
    "### Pythonic way\n",
    "\n",
    "```python\n",
    "class Person:\n",
    "   \n",
    "    # Constructor\n",
    "    def __init__(self,firstname,surname,job,gender):\n",
    "        self.firstname = firstname\n",
    "        self.surname = surname\n",
    "        self.job = job\n",
    "        self.gender = gender\n",
    "        self.myrealage = -1\n",
    "    \n",
    "    def name(self):\n",
    "        return self.firstname + \" \" + self.surname\n",
    "    \n",
    "    @property\n",
    "    def age(self):\n",
    "        return self.myrealage\n",
    "\n",
    "    @age.setter\n",
    "    def age(self,value):\n",
    "        if 18 <= value <= 100:\n",
    "            self.myrealage = value\n",
    "        else:\n",
    "            raise ValueError(\"age must be between 18 and 100!\")\n",
    "```"
   ]
  },
  {
   "cell_type": "code",
   "execution_count": null,
   "metadata": {},
   "outputs": [],
   "source": [
    "class Person:\n",
    "   \n",
    "    # Constructor\n",
    "    def __init__(self,firstname,surname,job,gender):\n",
    "        self.firstname = firstname\n",
    "        self.surname = surname\n",
    "        self.job = job\n",
    "        self.gender = gender\n",
    "        self.myrealage = -1\n",
    "    \n",
    "    def name(self):\n",
    "        return self.firstname + \" \" + self.surname\n",
    "    \n",
    "    @property\n",
    "    def age(self):\n",
    "        return self.myrealage\n",
    "\n",
    "    @age.setter\n",
    "    def age(self,value):\n",
    "        if 18 <= value <= 100:\n",
    "            self.myrealage = value\n",
    "        else:\n",
    "            raise ValueError(\"age must be between 18 and 100!\")"
   ]
  },
  {
   "cell_type": "code",
   "execution_count": null,
   "metadata": {},
   "outputs": [],
   "source": [
    "me = Person(\"Ben\", \"Thomas\", \"PDRA\", \"male\")"
   ]
  },
  {
   "cell_type": "code",
   "execution_count": null,
   "metadata": {},
   "outputs": [],
   "source": [
    "me.age = 33"
   ]
  },
  {
   "cell_type": "code",
   "execution_count": null,
   "metadata": {},
   "outputs": [],
   "source": [
    "me.age"
   ]
  },
  {
   "cell_type": "code",
   "execution_count": null,
   "metadata": {},
   "outputs": [],
   "source": [
    "me.age = 500"
   ]
  },
  {
   "cell_type": "markdown",
   "metadata": {},
   "source": [
    "## Inheritance\n",
    "\n",
    "```python\n",
    "class Animal:\n",
    "    # Constructor\n",
    "    def __init__(self, name):\n",
    "        \n",
    "        # Name attribute\n",
    "        self.name = name\n",
    "    \n",
    "    def show_info(self):\n",
    "        print(\"My name is \" + self.name)\n",
    "\n",
    "class Cat(Animal):\n",
    "    \n",
    "    def __init__(self, name, food):\n",
    "        \n",
    "        # Call the parent constructor to set name.\n",
    "        super().__init__(name)\n",
    "        \n",
    "        # Set the 'likes' variable.\n",
    "        self.likes = food\n",
    "```"
   ]
  },
  {
   "cell_type": "code",
   "execution_count": null,
   "metadata": {},
   "outputs": [],
   "source": [
    "class Animal:\n",
    "    # Constructor\n",
    "    def __init__(self, name):\n",
    "        \n",
    "        # Name attribute\n",
    "        self.name = name\n",
    "    \n",
    "    def show_info(self):\n",
    "        print(\"My name is \" + self.name)"
   ]
  },
  {
   "cell_type": "code",
   "execution_count": null,
   "metadata": {},
   "outputs": [],
   "source": [
    "class Cat(Animal):\n",
    "    \n",
    "    def __init__(self, name, food):\n",
    "        \n",
    "        # Call the parent constructor to set name.\n",
    "        super().__init__(name)\n",
    "        \n",
    "        # Set the 'likes' variable.\n",
    "        self.likes = food"
   ]
  },
  {
   "cell_type": "code",
   "execution_count": null,
   "metadata": {},
   "outputs": [],
   "source": [
    "tom = Cat(\"Tom\", \"fish\")"
   ]
  },
  {
   "cell_type": "code",
   "execution_count": null,
   "metadata": {},
   "outputs": [],
   "source": [
    "tom.show_info()"
   ]
  },
  {
   "cell_type": "markdown",
   "metadata": {},
   "source": [
    "### Adapt the child class\n",
    "\n",
    "```python\n",
    "class Cat(Animal):\n",
    "\n",
    "    def __init__(self, name, food):\n",
    "        # Call the parent constructor to set name.\n",
    "        super().__init__(name)\n",
    "\n",
    "        # Set the 'likes' variable.\n",
    "        self.likes = food\n",
    "\n",
    "    def show_info(self):\n",
    "        # Call parent show_info\n",
    "        super().show_info()\n",
    "        # Print info from child\n",
    "        print(\"I like eating \" + self.likes)\n",
    "```"
   ]
  },
  {
   "cell_type": "code",
   "execution_count": null,
   "metadata": {},
   "outputs": [],
   "source": [
    "class Cat(Animal):\n",
    "\n",
    "    def __init__(self, name, food):\n",
    "        # Call the parent constructor to set name.\n",
    "        super().__init__(name)\n",
    "\n",
    "        # Set the 'likes' variable.\n",
    "        self.likes = food\n",
    "\n",
    "    def show_info(self):\n",
    "        # Call parent show_info\n",
    "        super().show_info()\n",
    "        # Print info from child\n",
    "        print(\"I like eating \" + self.likes)"
   ]
  },
  {
   "cell_type": "code",
   "execution_count": null,
   "metadata": {},
   "outputs": [],
   "source": [
    "tom = Cat(\"Tom\", \"fish\")"
   ]
  },
  {
   "cell_type": "code",
   "execution_count": null,
   "metadata": {},
   "outputs": [],
   "source": [
    "tom.show_info()"
   ]
  },
  {
   "cell_type": "markdown",
   "metadata": {},
   "source": [
    "## Polymorphism and abstract classes\n",
    "\n",
    "```python\n",
    "class Animal:\n",
    "    # Constructor\n",
    "    def __init__(self, name):\n",
    "        \n",
    "        # Name attribute\n",
    "        self.name = name\n",
    "    \n",
    "    def show_surface(self):\n",
    "        raise NotImplementedError(\"Must implement abstract method\")\n",
    "        \n",
    "class Cat(Animal):\n",
    "    \n",
    "    def show_surface(self):\n",
    "        print(self.name + \" has fur\")\n",
    "\n",
    "class Dog(Animal):\n",
    "    \n",
    "    def show_surface(self):\n",
    "        print(self.name + \" has fur\")\n",
    "\n",
    "class Duck(Animal):\n",
    "    \n",
    "    def show_surface(self):\n",
    "        print(self.name + \" has feathers\")\n",
    "```"
   ]
  },
  {
   "cell_type": "code",
   "execution_count": null,
   "metadata": {},
   "outputs": [],
   "source": [
    "class Animal:\n",
    "    # Constructor\n",
    "    def __init__(self, name):\n",
    "        \n",
    "        # Name attribute\n",
    "        self.name = name\n",
    "    \n",
    "    def show_surface(self):\n",
    "        raise NotImplementedError(\"Must implement abstract method\")"
   ]
  },
  {
   "cell_type": "code",
   "execution_count": null,
   "metadata": {},
   "outputs": [],
   "source": [
    "class Cat(Animal):\n",
    "    \n",
    "    def show_surface(self):\n",
    "        print(self.name + \" has fur\")\n",
    "\n",
    "class Dog(Animal):\n",
    "    \n",
    "    def show_surface(self):\n",
    "        print(self.name + \" has fur\")\n",
    "\n",
    "class Duck(Animal):\n",
    "    \n",
    "    def show_surface(self):\n",
    "        print(self.name + \" has feathers\")"
   ]
  },
  {
   "cell_type": "code",
   "execution_count": null,
   "metadata": {},
   "outputs": [],
   "source": [
    "c = Cat(\"Tom\")\n",
    "p = Dog(\"Pluto\")\n",
    "d = Duck(\"Donald\")"
   ]
  },
  {
   "cell_type": "code",
   "execution_count": null,
   "metadata": {},
   "outputs": [],
   "source": [
    "pets = [c,p,d]"
   ]
  },
  {
   "cell_type": "code",
   "execution_count": null,
   "metadata": {},
   "outputs": [],
   "source": [
    "for pet in pets:\n",
    "    pet.show_surface()"
   ]
  }
 ],
 "metadata": {
  "kernelspec": {
   "display_name": "Python 3",
   "language": "python",
   "name": "python3"
  },
  "language_info": {
   "codemirror_mode": {
    "name": "ipython"
   },
   "file_extension": ".py",
   "mimetype": "text/x-python",
   "name": "python",
   "nbconvert_exporter": "python"
  }
 },
 "nbformat": 4,
 "nbformat_minor": 2
}

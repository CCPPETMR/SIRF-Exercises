{
 "cells": [
  {
   "cell_type": "markdown",
   "metadata": {},
   "source": [
    "## Data for the Geometry notebooks\n",
    "[![DOI](https://zenodo.org/badge/DOI/10.5281/zenodo.4940072.svg)](https://doi.org/10.5281/zenodo.4940072)\n",
    "\n",
    "The data is available on Zenodo in a file called `nifti.zip`. Here this is downloaded and unzipped. Unzipping should automatically create the folder `nifti`. Running the cells below should do this for you. You only need to run this once."
   ]
  },
  {
   "cell_type": "code",
   "execution_count": null,
   "metadata": {},
   "outputs": [],
   "source": [
    "# Setup the working directory for the notebook\n",
    "import notebook_setup\n",
    "from sirf_exercises import cd_to_working_dir\n",
    "cd_to_working_dir('Geometry')\n",
    "\n",
    "import os"
   ]
  },
  {
   "cell_type": "code",
   "execution_count": null,
   "metadata": {},
   "outputs": [],
   "source": [
    "# Cet data, unzip\n",
    "# curl will download into the current directory\n",
    "\n",
    "!curl -O https://zenodo.org/record/4940072/files/nifti.zip\n",
    "!unzip nifti.zip"
   ]
  },
  {
   "cell_type": "markdown",
   "metadata": {},
   "source": [
    "Note: The zip file was created in a Mac terminal using the command:  `zip -r nifti.zip nifti/* -x \"__MACOSX\" -x \".DS_Store\"`."
   ]
  },
  {
   "cell_type": "markdown",
   "metadata": {},
   "source": [
    "Show location and files"
   ]
  },
  {
   "cell_type": "code",
   "execution_count": null,
   "metadata": {},
   "outputs": [],
   "source": [
    "print(os.getcwd())\n",
    "%ls\n",
    "%ls nifti"
   ]
  }
 ],
 "metadata": {
  "kernelspec": {
   "display_name": "Python 3",
   "language": "python",
   "name": "python3"
  },
  "language_info": {
   "codemirror_mode": {
    "name": "ipython"
   },
   "file_extension": ".py",
   "mimetype": "text/x-python",
   "name": "python",
   "nbconvert_exporter": "python"
  }
 },
 "nbformat": 4,
 "nbformat_minor": 5
}
